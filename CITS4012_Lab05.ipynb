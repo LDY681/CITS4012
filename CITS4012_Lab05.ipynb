{
  "nbformat": 4,
  "nbformat_minor": 0,
  "metadata": {
    "colab": {
      "provenance": [],
      "include_colab_link": true
    },
    "kernelspec": {
      "name": "python3",
      "display_name": "Python 3"
    },
    "accelerator": "GPU"
  },
  "cells": [
    {
      "cell_type": "markdown",
      "metadata": {
        "id": "view-in-github",
        "colab_type": "text"
      },
      "source": [
        "<a href=\"https://colab.research.google.com/github/LDY681/CITS4012/blob/master/CITS4012_Lab05.ipynb\" target=\"_parent\"><img src=\"https://colab.research.google.com/assets/colab-badge.svg\" alt=\"Open In Colab\"/></a>"
      ]
    },
    {
      "cell_type": "markdown",
      "metadata": {
        "id": "2JX8CSelGdJf"
      },
      "source": [
        "# Lab 05"
      ]
    },
    {
      "cell_type": "markdown",
      "metadata": {
        "id": "be_7UFUxGfke"
      },
      "source": [
        "# Preprocessing\n",
        "\n",
        "Text preprocessing is an important step for natural language processing (NLP) tasks. It transforms text into a more digestible form so that machine learning algorithms can perform better. It is important to understand what each preprocessing method does in order to help decide if it is appropriate for your particular task."
      ]
    },
    {
      "cell_type": "markdown",
      "metadata": {
        "id": "ee0J8xZ9Kxwk"
      },
      "source": [
        "## Text Wrangling"
      ]
    },
    {
      "cell_type": "markdown",
      "metadata": {
        "id": "18BJU1JqYnSD"
      },
      "source": [
        "Text wrangling is converting/gathering/extracting formatted text from raw data."
      ]
    },
    {
      "cell_type": "markdown",
      "metadata": {
        "id": "tWOVJtY-L1Sm"
      },
      "source": [
        "For example, **HTML** does not include only content text. Even when you extract only the text from **HTML**, it is not all meaningful (e.g. it can include advertisements).\n",
        "\n",
        "Have a look at the [news article](https://www.smh.com.au/national/nsw/macquarie-uni-suspends-teaching-for-10-days-to-move-learning-online-20200317-p54avs.html). We might be only interested in getting the headline and body of the article.\n",
        "\n",
        "The following code removes some irrelevant tags (i.e. script, style, link, etc.) and displays the remaining tags. We will mainly utilise two packages:\n",
        "\n",
        "\n",
        "*   `urllib`: is a package that collects several modules for working with URLs. We will use `urllib.request` for opening and reading URLs (See details at [urllib.request](https://docs.python.org/3/library/urllib.request.html#module-urllib.request)).\n",
        "*   `BeautifulSoup`: Beautiful Soup is a library that makes it easy to scrape information from web pages. It sits atop an HTML or XML parser, providing Pythonic idioms for iterating, searching, and modifying the parse tree (See details at [BeautifulSoup](https://pypi.org/project/beautifulsoup4/)).\n",
        "\n",
        "\n",
        "    \n"
      ]
    },
    {
      "cell_type": "code",
      "metadata": {
        "id": "4_FeckidL1k0",
        "colab": {
          "base_uri": "https://localhost:8080/"
        },
        "outputId": "bdc0169c-a018-4fbf-b0c1-34a05bbafcf6"
      },
      "source": [
        "import urllib\n",
        "from bs4 import BeautifulSoup\n",
        "\n",
        "url = \"https://www.smh.com.au/national/nsw/macquarie-uni-suspends-teaching-for-10-days-to-move-learning-online-20200317-p54avs.html\"\n",
        "html = urllib.request.urlopen(url).read()\n",
        "soup = BeautifulSoup(html)\n",
        "\n",
        "# remove irrelevant tags (script, style, link, etc.)\n",
        "for script in soup([\"script\", \"style\", \"link\", \"head\", \"noscript\"]):\n",
        "    script.extract()    # rip it out, i.e remove the tag from the tree\n",
        "\n",
        "# The get_text() returns all the human-readable text beneath the tag as string\n",
        "text = soup.get_text()\n",
        "#print(text) # you can uncomment to have a look the returned text\n",
        "\n",
        "# The prettify() method will turn a Beautiful Soup parse tree into a nicely formatted Unicode string, with a separate line for each tag and each string\n",
        "print(soup.prettify())"
      ],
      "execution_count": null,
      "outputs": [
        {
          "output_type": "stream",
          "name": "stdout",
          "text": [
            "<!DOCTYPE html>\n",
            "<html lang=\"en\">\n",
            " <body class=\"\">\n",
            "  <div id=\"app\">\n",
            "   <div aria-atomic=\"true\" aria-live=\"off\" class=\"_2O3rv\" id=\"page_announcer\" tabindex=\"-1\">\n",
            "    University of Sydney to move fully online while Macquarie cancels classes\n",
            "   </div>\n",
            "   <div>\n",
            "   </div>\n",
            "   <div class=\"_2lciU\" role=\"\">\n",
            "    <svg aria-hidden=\"true\" class=\"QMY9O idv27\" focusable=\"false\" height=\"1em\" width=\"1em\">\n",
            "     <use xlink:href=\"#icon-exclamation\">\n",
            "     </use>\n",
            "    </svg>\n",
            "    <p>\n",
            "     We’re sorry, this feature is currently unavailable. We’re working to restore it. Please try again later.\n",
            "    </p>\n",
            "    <button class=\"_760Mo\">\n",
            "     Dismiss\n",
            "    </button>\n",
            "   </div>\n",
            "   <nav class=\"RbLp5\">\n",
            "    <a href=\"#sections\">\n",
            "     Skip to sections navigation\n",
            "    </a>\n",
            "    <a href=\"#content\">\n",
            "     Skip to content\n",
            "    </a>\n",
            "    <a href=\"#footer\">\n",
            "     Skip to footer\n",
            "    </a>\n",
            "   </nav>\n",
            "   <header class=\"_21UZG noPrint\" data-testid=\"header\">\n",
            "    <div class=\"_2L98J\">\n",
            "     <div class=\"_2gsJ0\">\n",
            "      <ul>\n",
            "       <li class=\"PJUwX\">\n",
            "        <button aria-controls=\"navigation\" aria-expanded=\"false\" class=\"_1k8VI\" data-testid=\"network-strip\">\n",
            "         Our network\n",
            "        </button>\n",
            "       </li>\n",
            "       <li class=\"_3CYE0\">\n",
            "       </li>\n",
            "      </ul>\n",
            "     </div>\n",
            "    </div>\n",
            "    <div class=\"_31Bug\">\n",
            "     <div class=\"h-Jxc\">\n",
            "      <div class=\"_2k79Y\">\n",
            "       <div class=\"_1hN2k\">\n",
            "        <button aria-controls=\"navigation\" aria-expanded=\"false\" class=\"_2g2-4 _2FxXH\" data-testid=\"menu-button\" id=\"sections\">\n",
            "         <span class=\"_2Wsmd\">\n",
            "          <em>\n",
            "           Open Navigation\n",
            "          </em>\n",
            "         </span>\n",
            "         <span class=\"yHQ5k\">\n",
            "          Menu\n",
            "         </span>\n",
            "        </button>\n",
            "        <button aria-label=\"metro-search\" class=\"_2mFnf\">\n",
            "         <svg aria-hidden=\"true\" class=\"QMY9O _31TpL\" focusable=\"false\" height=\"28px\" width=\"28px\">\n",
            "          <use xlink:href=\"#icon-search\">\n",
            "          </use>\n",
            "         </svg>\n",
            "        </button>\n",
            "       </div>\n",
            "       <div class=\"_2FAuv\" data-testid=\"small-logo\">\n",
            "        <div class=\"_3uPYr _2qnYw\">\n",
            "         <a class=\"_2ABN- YClUs\" href=\"/\">\n",
            "          <h2>\n",
            "           The Sydney Morning Herald\n",
            "          </h2>\n",
            "         </a>\n",
            "        </div>\n",
            "       </div>\n",
            "       <div class=\"gLolC _2fVGr\" data-testid=\"subscribe-button\">\n",
            "        <div class=\"_23XCI\">\n",
            "         <div id=\"homepage-header-subscribe-button-piano-id\">\n",
            "         </div>\n",
            "        </div>\n",
            "       </div>\n",
            "      </div>\n",
            "     </div>\n",
            "    </div>\n",
            "   </header>\n",
            "   <div class=\"_3ic7p printOnly\">\n",
            "    <div class=\"_3uPYr _2qnYw\">\n",
            "     <a class=\"_2ABN- YClUs\" href=\"/\">\n",
            "      <h2>\n",
            "       The Sydney Morning Herald\n",
            "      </h2>\n",
            "     </a>\n",
            "    </div>\n",
            "   </div>\n",
            "   <div aria-hidden=\"true\" class=\"_2yAUQ\" data-testid=\"site-menu\" id=\"navigation\">\n",
            "    <button class=\"_2dmHA\">\n",
            "     close\n",
            "    </button>\n",
            "    <form class=\"_3b67L\">\n",
            "     <label for=\"site-search\">\n",
            "      Search Site\n",
            "     </label>\n",
            "     <input class=\"_2q19s\" id=\"site-search\" name=\"query\" placeholder=\"Search\" type=\"search\" value=\"\"/>\n",
            "     <input class=\"JaNbC\" data-testid=\"search-submit\" type=\"submit\" value=\"Search\"/>\n",
            "    </form>\n",
            "    <ul class=\"_2fq7t\" role=\"tablist\">\n",
            "     <li class=\"rGXdz\" role=\"presentation\">\n",
            "      <a aria-controls=\"sections\" aria-selected=\"true\" href=\"#sections\" id=\"navSections\" role=\"tab\" tabindex=\"0\">\n",
            "       Sections\n",
            "      </a>\n",
            "     </li>\n",
            "     <li class=\"\" role=\"presentation\">\n",
            "      <a aria-selected=\"false\" data-testid=\"site-menu-network-tab\" href=\"#network\" id=\"navNetwork\" role=\"tab\" tabindex=\"-1\">\n",
            "       Network\n",
            "      </a>\n",
            "     </li>\n",
            "    </ul>\n",
            "    <div class=\"RTABy\">\n",
            "     <nav aria-hidden=\"false\" aria-labelledby=\"navSections\" class=\"rGXdz _2PKwb\" data-testid=\"site-menu-section-nav\" role=\"tabpanel\">\n",
            "      <div>\n",
            "       <ul data-testid=\"site-menu-section-link-group\" role=\"tree\">\n",
            "        <li class=\"\" role=\"treeitem\">\n",
            "         <a href=\"/\" id=\"section-home\">\n",
            "          Home\n",
            "         </a>\n",
            "        </li>\n",
            "        <li class=\"\" role=\"treeitem\">\n",
            "         <a href=\"/sydney-news\" id=\"section-sydney\">\n",
            "          Sydney\n",
            "         </a>\n",
            "        </li>\n",
            "        <li class=\"\" role=\"treeitem\">\n",
            "         <a href=\"/national/nsw\" id=\"section-nsw\">\n",
            "          NSW\n",
            "         </a>\n",
            "        </li>\n",
            "        <li aria-expanded=\"false\" class=\"_3kQ2X\" role=\"treeitem\">\n",
            "         <a href=\"/politics\" id=\"section-politics\">\n",
            "          Politics\n",
            "         </a>\n",
            "         <button aria-controls=\"subsection-politics\" aria-expanded=\"false\" class=\"\">\n",
            "          <span class=\"_1KXcO\">\n",
            "           Show subsections\n",
            "          </span>\n",
            "          <span class=\"_35a30\">\n",
            "           <svg aria-hidden=\"true\" class=\"QMY9O\" focusable=\"false\" height=\"1em\" width=\"1em\">\n",
            "            <use xlink:href=\"#icon-arrowsdown\">\n",
            "            </use>\n",
            "           </svg>\n",
            "          </span>\n",
            "         </button>\n",
            "         <ul aria-hidden=\"true\" aria-labelledby=\"section-politics\" class=\"_3Nydp\" id=\"subsection-politics\" role=\"group\">\n",
            "          <li class=\"\" role=\"treeitem\">\n",
            "           <a href=\"/politics/federal\" id=\"section-politics-federal\">\n",
            "            Federal\n",
            "           </a>\n",
            "          </li>\n",
            "          <li class=\"\" role=\"treeitem\">\n",
            "           <a href=\"/politics/nsw\" id=\"section-politics-nsw\">\n",
            "            NSW\n",
            "           </a>\n",
            "          </li>\n",
            "          <li class=\"\" role=\"treeitem\">\n",
            "           <a href=\"/politics/victoria\" id=\"section-politics-victoria\">\n",
            "            Victoria\n",
            "           </a>\n",
            "          </li>\n",
            "          <li class=\"\" role=\"treeitem\">\n",
            "           <a href=\"/politics/queensland\" id=\"section-politics-queensland\">\n",
            "            Queensland\n",
            "           </a>\n",
            "          </li>\n",
            "          <li class=\"\" role=\"treeitem\">\n",
            "           <a href=\"/politics/western-australia\" id=\"section-politics-western-australia\">\n",
            "            Western Australia\n",
            "           </a>\n",
            "          </li>\n",
            "         </ul>\n",
            "        </li>\n",
            "        <li aria-expanded=\"false\" class=\"_3kQ2X\" role=\"treeitem\">\n",
            "         <a href=\"/business\" id=\"section-business\">\n",
            "          Business\n",
            "         </a>\n",
            "         <button aria-controls=\"subsection-business\" aria-expanded=\"false\" class=\"\">\n",
            "          <span class=\"_1KXcO\">\n",
            "           Show subsections\n",
            "          </span>\n",
            "          <span class=\"_35a30\">\n",
            "           <svg aria-hidden=\"true\" class=\"QMY9O\" focusable=\"false\" height=\"1em\" width=\"1em\">\n",
            "            <use xlink:href=\"#icon-arrowsdown\">\n",
            "            </use>\n",
            "           </svg>\n",
            "          </span>\n",
            "         </button>\n",
            "         <ul aria-hidden=\"true\" aria-labelledby=\"section-business\" class=\"_3Nydp\" id=\"subsection-business\" role=\"group\">\n",
            "          <li class=\"\" role=\"treeitem\">\n",
            "           <a href=\"/business/companies\" id=\"section-business-companies\">\n",
            "            Companies\n",
            "           </a>\n",
            "          </li>\n",
            "          <li class=\"\" role=\"treeitem\">\n",
            "           <a href=\"/business/markets\" id=\"section-business-markets\">\n",
            "            Markets\n",
            "           </a>\n",
            "          </li>\n",
            "          <li class=\"\" role=\"treeitem\">\n",
            "           <a href=\"/business/bullsnbears\" id=\"section-business-bulls-n'-bears\">\n",
            "            Bulls N' Bears\n",
            "           </a>\n",
            "          </li>\n",
            "          <li class=\"\" role=\"treeitem\">\n",
            "           <a href=\"/business/the-economy\" id=\"section-business-the-economy\">\n",
            "            The economy\n",
            "           </a>\n",
            "          </li>\n",
            "          <li class=\"\" role=\"treeitem\">\n",
            "           <a href=\"/business/banking-and-finance\" id=\"section-business-banking-&amp;-finance\">\n",
            "            Banking &amp; finance\n",
            "           </a>\n",
            "          </li>\n",
            "          <li class=\"\" role=\"treeitem\">\n",
            "           <a href=\"/business/entrepreneurship\" id=\"section-business-entrepreneurship\">\n",
            "            Entrepreneurship\n",
            "           </a>\n",
            "          </li>\n",
            "          <li class=\"\" role=\"treeitem\">\n",
            "           <a href=\"/topic/media-and-marketing-5z7\" id=\"section-business-media\">\n",
            "            Media\n",
            "           </a>\n",
            "          </li>\n",
            "          <li class=\"\" role=\"treeitem\">\n",
            "           <a href=\"/business/workplace\" id=\"section-business-workplace\">\n",
            "            Workplace\n",
            "           </a>\n",
            "          </li>\n",
            "         </ul>\n",
            "        </li>\n",
            "        <li aria-expanded=\"false\" class=\"_3kQ2X\" role=\"treeitem\">\n",
            "         <a href=\"/world\" id=\"section-world\">\n",
            "          World\n",
            "         </a>\n",
            "         <button aria-controls=\"subsection-world\" aria-expanded=\"false\" class=\"\">\n",
            "          <span class=\"_1KXcO\">\n",
            "           Show subsections\n",
            "          </span>\n",
            "          <span class=\"_35a30\">\n",
            "           <svg aria-hidden=\"true\" class=\"QMY9O\" focusable=\"false\" height=\"1em\" width=\"1em\">\n",
            "            <use xlink:href=\"#icon-arrowsdown\">\n",
            "            </use>\n",
            "           </svg>\n",
            "          </span>\n",
            "         </button>\n",
            "         <ul aria-hidden=\"true\" aria-labelledby=\"section-world\" class=\"_3Nydp\" id=\"subsection-world\" role=\"group\">\n",
            "          <li class=\"\" role=\"treeitem\">\n",
            "           <a href=\"/world/north-america\" id=\"section-world-north-america\">\n",
            "            North America\n",
            "           </a>\n",
            "          </li>\n",
            "          <li class=\"\" role=\"treeitem\">\n",
            "           <a href=\"/world/europe\" id=\"section-world-europe\">\n",
            "            Europe\n",
            "           </a>\n",
            "          </li>\n",
            "          <li class=\"\" role=\"treeitem\">\n",
            "           <a href=\"/world/asia\" id=\"section-world-asia\">\n",
            "            Asia\n",
            "           </a>\n",
            "          </li>\n",
            "          <li class=\"\" role=\"treeitem\">\n",
            "           <a href=\"/world/middle-east\" id=\"section-world-middle-east\">\n",
            "            Middle East\n",
            "           </a>\n",
            "          </li>\n",
            "          <li class=\"\" role=\"treeitem\">\n",
            "           <a href=\"/world/oceania\" id=\"section-world-oceania\">\n",
            "            Oceania\n",
            "           </a>\n",
            "          </li>\n",
            "          <li class=\"\" role=\"treeitem\">\n",
            "           <a href=\"/world/south-america\" id=\"section-world-south-america\">\n",
            "            South America\n",
            "           </a>\n",
            "          </li>\n",
            "          <li class=\"\" role=\"treeitem\">\n",
            "           <a href=\"/world/africa\" id=\"section-world-africa\">\n",
            "            Africa\n",
            "           </a>\n",
            "          </li>\n",
            "         </ul>\n",
            "        </li>\n",
            "        <li aria-expanded=\"false\" class=\"_3kQ2X\" role=\"treeitem\">\n",
            "         <a href=\"/national\" id=\"section-national\">\n",
            "          National\n",
            "         </a>\n",
            "         <button aria-controls=\"subsection-national\" aria-expanded=\"false\" class=\"\">\n",
            "          <span class=\"_1KXcO\">\n",
            "           Show subsections\n",
            "          </span>\n",
            "          <span class=\"_35a30\">\n",
            "           <svg aria-hidden=\"true\" class=\"QMY9O\" focusable=\"false\" height=\"1em\" width=\"1em\">\n",
            "            <use xlink:href=\"#icon-arrowsdown\">\n",
            "            </use>\n",
            "           </svg>\n",
            "          </span>\n",
            "         </button>\n",
            "         <ul aria-hidden=\"true\" aria-labelledby=\"section-national\" class=\"_3Nydp\" id=\"subsection-national\" role=\"group\">\n",
            "          <li class=\"\" role=\"treeitem\">\n",
            "           <a href=\"/national/victoria\" id=\"section-national-victoria\">\n",
            "            Victoria\n",
            "           </a>\n",
            "          </li>\n",
            "          <li class=\"\" role=\"treeitem\">\n",
            "           <a href=\"/national/queensland\" id=\"section-national-queensland\">\n",
            "            Queensland\n",
            "           </a>\n",
            "          </li>\n",
            "          <li class=\"\" role=\"treeitem\">\n",
            "           <a href=\"/national/western-australia\" id=\"section-national-western-australia\">\n",
            "            Western Australia\n",
            "           </a>\n",
            "          </li>\n",
            "         </ul>\n",
            "        </li>\n",
            "        <li class=\"\" role=\"treeitem\">\n",
            "         <a href=\"/opinion\" id=\"section-opinion\">\n",
            "          Opinion\n",
            "         </a>\n",
            "        </li>\n",
            "        <li aria-expanded=\"false\" class=\"_3kQ2X\" role=\"treeitem\">\n",
            "         <a href=\"/property\" id=\"section-property\">\n",
            "          Property\n",
            "         </a>\n",
            "         <button aria-controls=\"subsection-property\" aria-expanded=\"false\" class=\"\">\n",
            "          <span class=\"_1KXcO\">\n",
            "           Show subsections\n",
            "          </span>\n",
            "          <span class=\"_35a30\">\n",
            "           <svg aria-hidden=\"true\" class=\"QMY9O\" focusable=\"false\" height=\"1em\" width=\"1em\">\n",
            "            <use xlink:href=\"#icon-arrowsdown\">\n",
            "            </use>\n",
            "           </svg>\n",
            "          </span>\n",
            "         </button>\n",
            "         <ul aria-hidden=\"true\" aria-labelledby=\"section-property\" class=\"_3Nydp\" id=\"subsection-property\" role=\"group\">\n",
            "          <li class=\"\" role=\"treeitem\">\n",
            "           <a href=\"/property/news\" id=\"section-property-news\">\n",
            "            News\n",
            "           </a>\n",
            "          </li>\n",
            "          <li class=\"\" role=\"treeitem\">\n",
            "           <a href=\"/domain-magazine\" id=\"section-property-domain-magazine\">\n",
            "            Domain Magazine\n",
            "           </a>\n",
            "          </li>\n",
            "          <li class=\"\" role=\"treeitem\">\n",
            "           <a href=\"/topic/title-deeds-1nq0\" id=\"section-property-title-deeds\">\n",
            "            Title Deeds\n",
            "           </a>\n",
            "          </li>\n",
            "          <li class=\"\" role=\"treeitem\">\n",
            "           <a href=\"/property/living\" id=\"section-property-living\">\n",
            "            Living\n",
            "           </a>\n",
            "          </li>\n",
            "          <li class=\"\" role=\"treeitem\">\n",
            "           <a href=\"/topic/auctions-1nq1\" id=\"section-property-auctions\">\n",
            "            Auctions\n",
            "           </a>\n",
            "          </li>\n",
            "          <li class=\"\" role=\"treeitem\">\n",
            "           <a href=\"/topic/financing-1nq2\" id=\"section-property-financing\">\n",
            "            Financing\n",
            "           </a>\n",
            "          </li>\n",
            "         </ul>\n",
            "        </li>\n",
            "        <li aria-expanded=\"false\" class=\"_3kQ2X\" role=\"treeitem\">\n",
            "         <a href=\"/sport\" id=\"section-sport\">\n",
            "          Sport\n",
            "         </a>\n",
            "         <button aria-controls=\"subsection-sport\" aria-expanded=\"false\" class=\"\">\n",
            "          <span class=\"_1KXcO\">\n",
            "           Show subsections\n",
            "          </span>\n",
            "          <span class=\"_35a30\">\n",
            "           <svg aria-hidden=\"true\" class=\"QMY9O\" focusable=\"false\" height=\"1em\" width=\"1em\">\n",
            "            <use xlink:href=\"#icon-arrowsdown\">\n",
            "            </use>\n",
            "           </svg>\n",
            "          </span>\n",
            "         </button>\n",
            "         <ul aria-hidden=\"true\" aria-labelledby=\"section-sport\" class=\"_3Nydp\" id=\"subsection-sport\" role=\"group\">\n",
            "          <li aria-expanded=\"false\" class=\"_3kQ2X\" role=\"treeitem\">\n",
            "           <a href=\"/sport/nrl\" id=\"section-sport-nrl\">\n",
            "            NRL\n",
            "           </a>\n",
            "          </li>\n",
            "          <li aria-expanded=\"false\" class=\"_3kQ2X\" role=\"treeitem\">\n",
            "           <a href=\"/sport/rugby-union\" id=\"section-sport-rugby-union\">\n",
            "            Rugby union\n",
            "           </a>\n",
            "          </li>\n",
            "          <li aria-expanded=\"false\" class=\"_3kQ2X\" role=\"treeitem\">\n",
            "           <a href=\"/sport/cricket\" id=\"section-sport-cricket\">\n",
            "            Cricket\n",
            "           </a>\n",
            "          </li>\n",
            "          <li class=\"\" role=\"treeitem\">\n",
            "           <a href=\"/sport/soccer\" id=\"section-sport-soccer\">\n",
            "            Soccer\n",
            "           </a>\n",
            "          </li>\n",
            "          <li aria-expanded=\"false\" class=\"_3kQ2X\" role=\"treeitem\">\n",
            "           <a href=\"/sport/afl\" id=\"section-sport-afl\">\n",
            "            AFL\n",
            "           </a>\n",
            "          </li>\n",
            "          <li class=\"\" role=\"treeitem\">\n",
            "           <a href=\"/sport/racing\" id=\"section-sport-racing\">\n",
            "            Racing\n",
            "           </a>\n",
            "          </li>\n",
            "          <li aria-expanded=\"false\" class=\"_3kQ2X\" role=\"treeitem\">\n",
            "           <a href=\"/sport/tennis\" id=\"section-sport-tennis\">\n",
            "            Tennis\n",
            "           </a>\n",
            "          </li>\n",
            "          <li aria-expanded=\"false\" class=\"_3kQ2X\" role=\"treeitem\">\n",
            "           <a href=\"/sport/netball\" id=\"section-sport-netball\">\n",
            "            Netball\n",
            "           </a>\n",
            "          </li>\n",
            "          <li class=\"\" role=\"treeitem\">\n",
            "           <a href=\"/sport/basketball\" id=\"section-sport-basketball\">\n",
            "            Basketball\n",
            "           </a>\n",
            "          </li>\n",
            "          <li class=\"\" role=\"treeitem\">\n",
            "           <a href=\"/sport/motorsport\" id=\"section-sport-motorsport\">\n",
            "            Motorsport\n",
            "           </a>\n",
            "          </li>\n",
            "          <li class=\"\" role=\"treeitem\">\n",
            "           <a href=\"/sport/cycling\" id=\"section-sport-cycling\">\n",
            "            Cycling\n",
            "           </a>\n",
            "          </li>\n",
            "          <li class=\"\" role=\"treeitem\">\n",
            "           <a href=\"/sport/golf\" id=\"section-sport-golf\">\n",
            "            Golf\n",
            "           </a>\n",
            "          </li>\n",
            "          <li class=\"\" role=\"treeitem\">\n",
            "           <a href=\"/sport/nfl\" id=\"section-sport-nfl\">\n",
            "            NFL\n",
            "           </a>\n",
            "          </li>\n",
            "          <li class=\"\" role=\"treeitem\">\n",
            "           <a href=\"/sport/athletics\" id=\"section-sport-athletics\">\n",
            "            Athletics\n",
            "           </a>\n",
            "          </li>\n",
            "          <li class=\"\" role=\"treeitem\">\n",
            "           <a href=\"/sport/swimming\" id=\"section-sport-swimming\">\n",
            "            Swimming\n",
            "           </a>\n",
            "          </li>\n",
            "          <li class=\"\" role=\"treeitem\">\n",
            "           <a href=\"/sport/boxing\" id=\"section-sport-boxing\">\n",
            "            Boxing\n",
            "           </a>\n",
            "          </li>\n",
            "         </ul>\n",
            "        </li>\n",
            "        <li aria-expanded=\"false\" class=\"_3kQ2X\" role=\"treeitem\">\n",
            "         <a activeclassname=\"_22TcS\" href=\"/goodfood\" id=\"section-good-food\">\n",
            "          Good Food\n",
            "         </a>\n",
            "         <button aria-controls=\"subsection-good-food\" aria-expanded=\"false\" class=\"\">\n",
            "          <span class=\"_1KXcO\">\n",
            "           Show subsections\n",
            "          </span>\n",
            "          <span class=\"_35a30\">\n",
            "           <svg aria-hidden=\"true\" class=\"QMY9O\" focusable=\"false\" height=\"1em\" width=\"1em\">\n",
            "            <use xlink:href=\"#icon-arrowsdown\">\n",
            "            </use>\n",
            "           </svg>\n",
            "          </span>\n",
            "         </button>\n",
            "         <ul aria-hidden=\"true\" aria-labelledby=\"section-good-food\" class=\"_3Nydp\" id=\"subsection-good-food\" role=\"group\">\n",
            "          <li class=\"\" role=\"treeitem\">\n",
            "           <a activeclassname=\"_22TcS\" href=\"/goodfood/sydney-eating-out\" id=\"section-good-food-eating-out\">\n",
            "            Eating out\n",
            "           </a>\n",
            "          </li>\n",
            "          <li class=\"\" role=\"treeitem\">\n",
            "           <a activeclassname=\"_22TcS\" href=\"/goodfood/recipes\" id=\"section-good-food-recipes\">\n",
            "            Recipes\n",
            "           </a>\n",
            "          </li>\n",
            "          <li class=\"\" role=\"treeitem\">\n",
            "           <a activeclassname=\"_22TcS\" href=\"/goodfood/tips-and-advice\" id=\"section-good-food-tips-&amp;-advice\">\n",
            "            Tips &amp; advice\n",
            "           </a>\n",
            "          </li>\n",
            "          <li class=\"\" role=\"treeitem\">\n",
            "           <a activeclassname=\"_22TcS\" href=\"/goodfood/drinks\" id=\"section-good-food-drinks\">\n",
            "            Drinks\n",
            "           </a>\n",
            "          </li>\n",
            "         </ul>\n",
            "        </li>\n",
            "        <li aria-expanded=\"false\" class=\"_3kQ2X\" role=\"treeitem\">\n",
            "         <a href=\"/culture\" id=\"section-culture\">\n",
            "          Culture\n",
            "         </a>\n",
            "         <button aria-controls=\"subsection-culture\" aria-expanded=\"false\" class=\"\">\n",
            "          <span class=\"_1KXcO\">\n",
            "           Show subsections\n",
            "          </span>\n",
            "          <span class=\"_35a30\">\n",
            "           <svg aria-hidden=\"true\" class=\"QMY9O\" focusable=\"false\" height=\"1em\" width=\"1em\">\n",
            "            <use xlink:href=\"#icon-arrowsdown\">\n",
            "            </use>\n",
            "           </svg>\n",
            "          </span>\n",
            "         </button>\n",
            "         <ul aria-hidden=\"true\" aria-labelledby=\"section-culture\" class=\"_3Nydp\" id=\"subsection-culture\" role=\"group\">\n",
            "          <li class=\"\" role=\"treeitem\">\n",
            "           <a href=\"/culture/movies\" id=\"section-culture-movies\">\n",
            "            Movies\n",
            "           </a>\n",
            "          </li>\n",
            "          <li aria-expanded=\"false\" class=\"_3kQ2X\" role=\"treeitem\">\n",
            "           <a href=\"/culture/tv-and-radio\" id=\"section-culture-tv-&amp;-radio\">\n",
            "            TV &amp; radio\n",
            "           </a>\n",
            "          </li>\n",
            "          <li class=\"\" role=\"treeitem\">\n",
            "           <a href=\"/culture/music\" id=\"section-culture-music\">\n",
            "            Music\n",
            "           </a>\n",
            "          </li>\n",
            "          <li class=\"\" role=\"treeitem\">\n",
            "           <a href=\"/culture/celebrity\" id=\"section-culture-celebrity\">\n",
            "            Celebrity\n",
            "           </a>\n",
            "          </li>\n",
            "          <li class=\"\" role=\"treeitem\">\n",
            "           <a href=\"/culture/books\" id=\"section-culture-books\">\n",
            "            Books\n",
            "           </a>\n",
            "          </li>\n",
            "          <li class=\"\" role=\"treeitem\">\n",
            "           <a href=\"/culture/comedy\" id=\"section-culture-comedy\">\n",
            "            Comedy\n",
            "           </a>\n",
            "          </li>\n",
            "          <li class=\"\" role=\"treeitem\">\n",
            "           <a href=\"/culture/dance\" id=\"section-culture-dance\">\n",
            "            Dance\n",
            "           </a>\n",
            "          </li>\n",
            "          <li class=\"\" role=\"treeitem\">\n",
            "           <a href=\"/culture/musicals\" id=\"section-culture-musicals\">\n",
            "            Musicals\n",
            "           </a>\n",
            "          </li>\n",
            "          <li class=\"\" role=\"treeitem\">\n",
            "           <a href=\"/culture/opera\" id=\"section-culture-opera\">\n",
            "            Opera\n",
            "           </a>\n",
            "          </li>\n",
            "          <li class=\"\" role=\"treeitem\">\n",
            "           <a href=\"/culture/theatre\" id=\"section-culture-theatre\">\n",
            "            Theatre\n",
            "           </a>\n",
            "          </li>\n",
            "          <li class=\"\" role=\"treeitem\">\n",
            "           <a href=\"/culture/art-and-design\" id=\"section-culture-art-&amp;-design\">\n",
            "            Art &amp; design\n",
            "           </a>\n",
            "          </li>\n",
            "          <li class=\"\" role=\"treeitem\">\n",
            "           <a href=\"/culture/live-reviews\" id=\"section-culture-live-reviews\">\n",
            "            Live reviews\n",
            "           </a>\n",
            "          </li>\n",
            "          <li class=\"\" role=\"treeitem\">\n",
            "           <a href=\"https://tvguide.smh.com.au\">\n",
            "            TV guide\n",
            "           </a>\n",
            "          </li>\n",
            "         </ul>\n",
            "        </li>\n",
            "        <li aria-expanded=\"false\" class=\"_3kQ2X\" role=\"treeitem\">\n",
            "         <a href=\"/lifestyle\" id=\"section-lifestyle\">\n",
            "          Lifestyle\n",
            "         </a>\n",
            "         <button aria-controls=\"subsection-lifestyle\" aria-expanded=\"false\" class=\"\">\n",
            "          <span class=\"_1KXcO\">\n",
            "           Show subsections\n",
            "          </span>\n",
            "          <span class=\"_35a30\">\n",
            "           <svg aria-hidden=\"true\" class=\"QMY9O\" focusable=\"false\" height=\"1em\" width=\"1em\">\n",
            "            <use xlink:href=\"#icon-arrowsdown\">\n",
            "            </use>\n",
            "           </svg>\n",
            "          </span>\n",
            "         </button>\n",
            "         <ul aria-hidden=\"true\" aria-labelledby=\"section-lifestyle\" class=\"_3Nydp\" id=\"subsection-lifestyle\" role=\"group\">\n",
            "          <li class=\"\" role=\"treeitem\">\n",
            "           <a href=\"/lifestyle/health-and-wellness\" id=\"section-lifestyle-health-&amp;-wellness\">\n",
            "            Health &amp; wellness\n",
            "           </a>\n",
            "          </li>\n",
            "          <li class=\"\" role=\"treeitem\">\n",
            "           <a href=\"/lifestyle/fashion\" id=\"section-lifestyle-fashion\">\n",
            "            Fashion\n",
            "           </a>\n",
            "          </li>\n",
            "          <li class=\"\" role=\"treeitem\">\n",
            "           <a href=\"/lifestyle/life-and-relationships\" id=\"section-lifestyle-life-&amp;-relationships\">\n",
            "            Life &amp; relationships\n",
            "           </a>\n",
            "          </li>\n",
            "          <li class=\"\" role=\"treeitem\">\n",
            "           <a href=\"/lifestyle/beauty\" id=\"section-lifestyle-beauty\">\n",
            "            Beauty\n",
            "           </a>\n",
            "          </li>\n",
            "          <li class=\"\" role=\"treeitem\">\n",
            "           <a href=\"/topic/style-luxury-1nij\" id=\"section-lifestyle-style\">\n",
            "            Style\n",
            "           </a>\n",
            "          </li>\n",
            "          <li class=\"\" role=\"treeitem\">\n",
            "           <a href=\"/topic/horoscopes-5yc\" id=\"section-lifestyle-horoscopes\">\n",
            "            Horoscopes\n",
            "           </a>\n",
            "          </li>\n",
            "         </ul>\n",
            "        </li>\n",
            "        <li aria-expanded=\"false\" class=\"_3kQ2X\" role=\"treeitem\">\n",
            "         <a href=\"/traveller\" id=\"section-traveller\">\n",
            "          Traveller\n",
            "         </a>\n",
            "         <button aria-controls=\"subsection-traveller\" aria-expanded=\"false\" class=\"\">\n",
            "          <span class=\"_1KXcO\">\n",
            "           Show subsections\n",
            "          </span>\n",
            "          <span class=\"_35a30\">\n",
            "           <svg aria-hidden=\"true\" class=\"QMY9O\" focusable=\"false\" height=\"1em\" width=\"1em\">\n",
            "            <use xlink:href=\"#icon-arrowsdown\">\n",
            "            </use>\n",
            "           </svg>\n",
            "          </span>\n",
            "         </button>\n",
            "         <ul aria-hidden=\"true\" aria-labelledby=\"section-traveller\" class=\"_3Nydp\" id=\"subsection-traveller\" role=\"group\">\n",
            "          <li class=\"\" role=\"treeitem\">\n",
            "           <a href=\"/traveller/inspiration/destination-guides\" id=\"section-traveller-destination-guides\">\n",
            "            Destination guides\n",
            "           </a>\n",
            "          </li>\n",
            "          <li class=\"\" role=\"treeitem\">\n",
            "           <a href=\"/traveller/inspiration\" id=\"section-traveller-inspiration\">\n",
            "            Inspiration\n",
            "           </a>\n",
            "          </li>\n",
            "          <li class=\"\" role=\"treeitem\">\n",
            "           <a href=\"/traveller/reviews-and-advice\" id=\"section-traveller-reviews-&amp;-advice\">\n",
            "            Reviews &amp; advice\n",
            "           </a>\n",
            "          </li>\n",
            "          <li class=\"\" role=\"treeitem\">\n",
            "           <a href=\"/traveller/travel-news\" id=\"section-traveller-travel-news\">\n",
            "            Travel news\n",
            "           </a>\n",
            "          </li>\n",
            "         </ul>\n",
            "        </li>\n",
            "        <li class=\"\" role=\"treeitem\">\n",
            "         <a href=\"/good-weekend\" id=\"section-good-weekend\">\n",
            "          Good Weekend\n",
            "         </a>\n",
            "        </li>\n",
            "        <li class=\"\" role=\"treeitem\">\n",
            "         <a href=\"/topic/spectrum-smh-hog\" id=\"section-spectrum\">\n",
            "          Spectrum\n",
            "         </a>\n",
            "        </li>\n",
            "        <li class=\"\" role=\"treeitem\">\n",
            "         <a href=\"/sunday-life\" id=\"section-sunday-life\">\n",
            "          Sunday Life\n",
            "         </a>\n",
            "        </li>\n",
            "        <li aria-expanded=\"false\" class=\"_3kQ2X\" role=\"treeitem\">\n",
            "         <a href=\"/money\" id=\"section-money\">\n",
            "          Money\n",
            "         </a>\n",
            "         <button aria-controls=\"subsection-money\" aria-expanded=\"false\" class=\"\">\n",
            "          <span class=\"_1KXcO\">\n",
            "           Show subsections\n",
            "          </span>\n",
            "          <span class=\"_35a30\">\n",
            "           <svg aria-hidden=\"true\" class=\"QMY9O\" focusable=\"false\" height=\"1em\" width=\"1em\">\n",
            "            <use xlink:href=\"#icon-arrowsdown\">\n",
            "            </use>\n",
            "           </svg>\n",
            "          </span>\n",
            "         </button>\n",
            "         <ul aria-hidden=\"true\" aria-labelledby=\"section-money\" class=\"_3Nydp\" id=\"subsection-money\" role=\"group\">\n",
            "          <li class=\"\" role=\"treeitem\">\n",
            "           <a href=\"/money/super-and-retirement\" id=\"section-money-super-&amp;-retirement\">\n",
            "            Super &amp; retirement\n",
            "           </a>\n",
            "          </li>\n",
            "          <li class=\"\" role=\"treeitem\">\n",
            "           <a href=\"/money/investing\" id=\"section-money-investing\">\n",
            "            Investing\n",
            "           </a>\n",
            "          </li>\n",
            "          <li class=\"\" role=\"treeitem\">\n",
            "           <a href=\"/money/banking\" id=\"section-money-banking\">\n",
            "            Banking\n",
            "           </a>\n",
            "          </li>\n",
            "          <li class=\"\" role=\"treeitem\">\n",
            "           <a href=\"/money/borrowing\" id=\"section-money-borrowing\">\n",
            "            Borrowing\n",
            "           </a>\n",
            "          </li>\n",
            "          <li class=\"\" role=\"treeitem\">\n",
            "           <a href=\"/money/saving\" id=\"section-money-saving\">\n",
            "            Saving\n",
            "           </a>\n",
            "          </li>\n",
            "          <li class=\"\" role=\"treeitem\">\n",
            "           <a href=\"/money/tax\" id=\"section-money-tax\">\n",
            "            Tax\n",
            "           </a>\n",
            "          </li>\n",
            "          <li class=\"\" role=\"treeitem\">\n",
            "           <a href=\"/money/planning-and-budgeting\" id=\"section-money-planning-&amp;-budgeting\">\n",
            "            Planning &amp; budgeting\n",
            "           </a>\n",
            "          </li>\n",
            "          <li class=\"\" role=\"treeitem\">\n",
            "           <a href=\"/money/insurance\" id=\"section-money-insurance\">\n",
            "            Insurance\n",
            "           </a>\n",
            "          </li>\n",
            "         </ul>\n",
            "        </li>\n",
            "        <li class=\"\" role=\"treeitem\">\n",
            "         <a href=\"/education\" id=\"section-education\">\n",
            "          Education\n",
            "         </a>\n",
            "        </li>\n",
            "        <li class=\"\" role=\"treeitem\">\n",
            "         <a href=\"/healthcare\" id=\"section-healthcare\">\n",
            "          Healthcare\n",
            "         </a>\n",
            "        </li>\n",
            "        <li aria-expanded=\"false\" class=\"_3kQ2X\" role=\"treeitem\">\n",
            "         <a href=\"/environment\" id=\"section-environment\">\n",
            "          Environment\n",
            "         </a>\n",
            "         <button aria-controls=\"subsection-environment\" aria-expanded=\"false\" class=\"\">\n",
            "          <span class=\"_1KXcO\">\n",
            "           Show subsections\n",
            "          </span>\n",
            "          <span class=\"_35a30\">\n",
            "           <svg aria-hidden=\"true\" class=\"QMY9O\" focusable=\"false\" height=\"1em\" width=\"1em\">\n",
            "            <use xlink:href=\"#icon-arrowsdown\">\n",
            "            </use>\n",
            "           </svg>\n",
            "          </span>\n",
            "         </button>\n",
            "         <ul aria-hidden=\"true\" aria-labelledby=\"section-environment\" class=\"_3Nydp\" id=\"subsection-environment\" role=\"group\">\n",
            "          <li class=\"\" role=\"treeitem\">\n",
            "           <a href=\"/environment/conservation\" id=\"section-environment-conservation\">\n",
            "            Conservation\n",
            "           </a>\n",
            "          </li>\n",
            "          <li class=\"\" role=\"treeitem\">\n",
            "           <a href=\"/environment/climate-change\" id=\"section-environment-climate-change\">\n",
            "            Climate change\n",
            "           </a>\n",
            "          </li>\n",
            "          <li class=\"\" role=\"treeitem\">\n",
            "           <a href=\"/environment/sustainability\" id=\"section-environment-sustainability\">\n",
            "            Sustainability\n",
            "           </a>\n",
            "          </li>\n",
            "          <li class=\"\" role=\"treeitem\">\n",
            "           <a href=\"/environment/weather\" id=\"section-environment-weather\">\n",
            "            Weather\n",
            "           </a>\n",
            "          </li>\n",
            "         </ul>\n",
            "        </li>\n",
            "        <li aria-expanded=\"false\" class=\"_3kQ2X\" role=\"treeitem\">\n",
            "         <a href=\"/technology\" id=\"section-technology\">\n",
            "          Technology\n",
            "         </a>\n",
            "         <button aria-controls=\"subsection-technology\" aria-expanded=\"false\" class=\"\">\n",
            "          <span class=\"_1KXcO\">\n",
            "           Show subsections\n",
            "          </span>\n",
            "          <span class=\"_35a30\">\n",
            "           <svg aria-hidden=\"true\" class=\"QMY9O\" focusable=\"false\" height=\"1em\" width=\"1em\">\n",
            "            <use xlink:href=\"#icon-arrowsdown\">\n",
            "            </use>\n",
            "           </svg>\n",
            "          </span>\n",
            "         </button>\n",
            "         <ul aria-hidden=\"true\" aria-labelledby=\"section-technology\" class=\"_3Nydp\" id=\"subsection-technology\" role=\"group\">\n",
            "          <li class=\"\" role=\"treeitem\">\n",
            "           <a href=\"/technology/video-games\" id=\"section-technology-video-games\">\n",
            "            Video games\n",
            "           </a>\n",
            "          </li>\n",
            "          <li class=\"\" role=\"treeitem\">\n",
            "           <a href=\"/topic/home-technology-hqq\" id=\"section-technology-home-tech\">\n",
            "            Home tech\n",
            "           </a>\n",
            "          </li>\n",
            "          <li class=\"\" role=\"treeitem\">\n",
            "           <a href=\"/topic/phones-5zt\" id=\"section-technology-phones\">\n",
            "            Phones\n",
            "           </a>\n",
            "          </li>\n",
            "          <li class=\"\" role=\"treeitem\">\n",
            "           <a href=\"/topic/gadgets-hqp\" id=\"section-technology-gadgets\">\n",
            "            Gadgets\n",
            "           </a>\n",
            "          </li>\n",
            "         </ul>\n",
            "        </li>\n",
            "        <li class=\"\" role=\"treeitem\">\n",
            "         <a href=\"http://www.drive.com.au\">\n",
            "          Drive\n",
            "         </a>\n",
            "        </li>\n",
            "       </ul>\n",
            "       <ul class=\"Uffnp _375G7\" data-testid=\"site-menu-section-link-group\" role=\"tree\">\n",
            "        <li>\n",
            "         <h4>\n",
            "          Premium\n",
            "         </h4>\n",
            "         <a class=\"_3zoNz _3_hLE _252xb _1Amud\" data-ffx-event-action=\"cta click\" data-ffx-event-attribute=\"menu\" data-ffx-event-category=\"component\" data-ffx-event-label=\"subscribe\" data-ffx-hittype=\"event\" data-testid=\"subscribe-upgrade\" href=\"https://subscribe.smh.com.au/?promote_channel=HI_IL_GNL&amp;utm_source=PremiumIndex&amp;utm_medium=HouseInventory&amp;utm_campaign=General\">\n",
            "          Subscribe\n",
            "         </a>\n",
            "        </li>\n",
            "        <li class=\"\" role=\"treeitem\">\n",
            "         <a data-ffx-event-action=\"cta click\" data-ffx-event-attribute=\"menu\" data-ffx-event-category=\"component\" data-ffx-event-label=\"todays paper\" data-ffx-hittype=\"event\" data-testid=\"primary-navigation-todays-paper\" href=\"/todays-newspaper\" id=\"section-today’s-paper\">\n",
            "          <svg aria-hidden=\"true\" class=\"QMY9O\" focusable=\"false\" height=\"24px\" width=\"24px\">\n",
            "           <use xlink:href=\"#icon-menu-todays-paper\">\n",
            "           </use>\n",
            "          </svg>\n",
            "          Today’s Paper\n",
            "         </a>\n",
            "        </li>\n",
            "        <li class=\"\" role=\"treeitem\">\n",
            "         <a activeclassname=\"_22TcS\" data-ffx-event-action=\"cta click\" data-ffx-event-attribute=\"menu\" data-ffx-event-category=\"component\" data-ffx-event-label=\"goodfood guide\" data-ffx-hittype=\"event\" data-testid=\"primary-navigation-goodfood-guide\" href=\"/goodfood-guide\" id=\"section-good-food-guide\">\n",
            "          <svg aria-hidden=\"true\" class=\"QMY9O\" focusable=\"false\" height=\"24px\" width=\"24px\">\n",
            "           <use xlink:href=\"#icon-goodfood-guide\">\n",
            "           </use>\n",
            "          </svg>\n",
            "          Good Food Guide\n",
            "         </a>\n",
            "        </li>\n",
            "        <li class=\"\" role=\"treeitem\">\n",
            "         <a data-ffx-event-action=\"cta click\" data-ffx-event-attribute=\"menu\" data-ffx-event-category=\"component\" data-ffx-event-label=\"puzzles\" data-ffx-hittype=\"event\" href=\"/puzzles\" id=\"section-daily-crosswords-&amp;-sudoku\">\n",
            "          <svg aria-hidden=\"true\" class=\"QMY9O\" focusable=\"false\" height=\"24px\" width=\"24px\">\n",
            "           <use xlink:href=\"#icon-menu-crossword\">\n",
            "           </use>\n",
            "          </svg>\n",
            "          Daily Crosswords &amp; Sudoku\n",
            "         </a>\n",
            "        </li>\n",
            "       </ul>\n",
            "       <ul class=\"Uffnp undefined\" data-testid=\"site-menu-section-link-group\" role=\"tree\">\n",
            "        <li>\n",
            "         <h4>\n",
            "          More\n",
            "         </h4>\n",
            "        </li>\n",
            "        <li class=\"\" role=\"treeitem\">\n",
            "         <a href=\"/topic/smh-letters-1r7\" id=\"section-letters\">\n",
            "          Letters\n",
            "         </a>\n",
            "        </li>\n",
            "        <li class=\"\" role=\"treeitem\">\n",
            "         <a href=\"/topic/smh-editorial-1r6\" id=\"section-editorial\">\n",
            "          Editorial\n",
            "         </a>\n",
            "        </li>\n",
            "        <li class=\"\" role=\"treeitem\">\n",
            "         <a href=\"/australia-higher-education\" id=\"section-campus\">\n",
            "          Campus\n",
            "         </a>\n",
            "        </li>\n",
            "        <li class=\"\" role=\"treeitem\">\n",
            "         <a href=\"/topic/column-8-1r4\" id=\"section-column-8\">\n",
            "          Column 8\n",
            "         </a>\n",
            "        </li>\n",
            "        <li class=\"\" role=\"treeitem\">\n",
            "         <a href=\"/topic/obituaries-1qv\" id=\"section-obituaries\">\n",
            "          Obituaries\n",
            "         </a>\n",
            "        </li>\n",
            "        <li class=\"\" role=\"treeitem\">\n",
            "         <a href=\"/topic/explainers-1lz9\" id=\"section-explainers\">\n",
            "          Explainers\n",
            "         </a>\n",
            "        </li>\n",
            "        <li class=\"\" role=\"treeitem\">\n",
            "         <a href=\"/topic/quizzes-1qx\" id=\"section-quizzes\">\n",
            "          Quizzes\n",
            "         </a>\n",
            "        </li>\n",
            "        <li class=\"\" role=\"treeitem\">\n",
            "         <a activeclassname=\"_22TcS\" href=\"https://podcasts.smh.com.au/?utm_source=Explore&amp;utm_medium=OnSite&amp;utm_campaign=Podcast\" id=\"section-podcasts\">\n",
            "          Podcasts\n",
            "         </a>\n",
            "        </li>\n",
            "       </ul>\n",
            "      </div>\n",
            "     </nav>\n",
            "     <nav aria-hidden=\"true\" aria-labelledby=\"navNetwork\" class=\"_2PKwb\" data-testid=\"site-menu-network-nav\" role=\"tabpanel\">\n",
            "      <div class=\"_2fv33\">\n",
            "       <ul class=\"_32aAr\" data-testid=\"site-menu-network-link-group\">\n",
            "        <li>\n",
            "         <a href=\"https://www.smh.com.au\">\n",
            "          The Sydney Morning Herald\n",
            "         </a>\n",
            "        </li>\n",
            "        <li>\n",
            "         <a href=\"https://www.theage.com.au\">\n",
            "          The Age\n",
            "         </a>\n",
            "        </li>\n",
            "        <li>\n",
            "         <a href=\"https://www.brisbanetimes.com.au\">\n",
            "          Brisbane Times\n",
            "         </a>\n",
            "        </li>\n",
            "        <li>\n",
            "         <a href=\"https://www.watoday.com.au\">\n",
            "          WAtoday\n",
            "         </a>\n",
            "        </li>\n",
            "        <li>\n",
            "         <a href=\"https://www.afr.com\">\n",
            "          The Australian Financial Review\n",
            "         </a>\n",
            "        </li>\n",
            "       </ul>\n",
            "       <ul class=\"_32aAr\" data-testid=\"site-menu-network-link-group\">\n",
            "        <li>\n",
            "         <a href=\"https://www.domain.com.au\">\n",
            "          Domain\n",
            "         </a>\n",
            "        </li>\n",
            "        <li>\n",
            "         <a href=\"https://www.commercialrealestate.com.au\">\n",
            "          Commercial Real Estate\n",
            "         </a>\n",
            "        </li>\n",
            "        <li>\n",
            "         <a href=\"https://www.drive.com.au\">\n",
            "          Drive\n",
            "         </a>\n",
            "        </li>\n",
            "       </ul>\n",
            "      </div>\n",
            "     </nav>\n",
            "    </div>\n",
            "   </div>\n",
            "   <main id=\"content\">\n",
            "    <div class=\"_1JART _3ECgH _2TEVJ OK924 KNwOD\">\n",
            "     <div class=\"_34z61 _2iGMx\">\n",
            "      <div class=\"adWrapper _2UMq- noPrint\" data-testid=\"ad\">\n",
            "       <small class=\"_3ToRr\">\n",
            "        Advertisement\n",
            "       </small>\n",
            "       <div class=\"_2KSwt\" id=\"adSlot-1\">\n",
            "       </div>\n",
            "      </div>\n",
            "     </div>\n",
            "     <article class=\"_2yRSr\">\n",
            "      <header class=\"_16lwx _2-5AL\">\n",
            "       <div class=\"_2JwnJ\">\n",
            "        <div class=\"JwYux\">\n",
            "         <div class=\"_2YAR2 _1dnWn\">\n",
            "          <ul>\n",
            "           <li class=\"_3wukJ\" data-testid=\"category\">\n",
            "            <a href=\"/national\" title=\"National\">\n",
            "             National\n",
            "            </a>\n",
            "           </li>\n",
            "           <li class=\"_3wukJ\" data-testid=\"category\">\n",
            "            <a href=\"/national/nsw\" title=\"NSW\">\n",
            "             NSW\n",
            "            </a>\n",
            "           </li>\n",
            "           <li class=\"_1pMb9\" data-testid=\"tag-name\">\n",
            "            <a href=\"/coronavirus-pandemic\" title=\"Coronavirus pandemic\">\n",
            "             Coronavirus pandemic\n",
            "            </a>\n",
            "           </li>\n",
            "          </ul>\n",
            "         </div>\n",
            "         <p class=\"CpcU1\">\n",
            "          <span>\n",
            "           This was published\n",
            "           <!-- -->\n",
            "           4\n",
            "           <!-- -->\n",
            "           <!-- -->\n",
            "           years\n",
            "           <!-- -->\n",
            "           ago\n",
            "          </span>\n",
            "         </p>\n",
            "         <h1 data-testid=\"headline\" itemprop=\"headline\">\n",
            "          University of Sydney to move fully online while Macquarie cancels classes\n",
            "         </h1>\n",
            "        </div>\n",
            "       </div>\n",
            "      </header>\n",
            "      <section class=\"_3OhA4\">\n",
            "       <div class=\"_2h56q\">\n",
            "        <div class=\"_3J1te\">\n",
            "         <h5 class=\"_3-xPQ\">\n",
            "          <span class=\"_3pGt1\">\n",
            "           By\n",
            "          </span>\n",
            "          <span>\n",
            "           <span data-testid=\"byline\">\n",
            "            <a href=\"/by/natassia-chrysanthos-h17jwj\" title=\"Articles by Natassia Chrysanthos\">\n",
            "             Natassia Chrysanthos\n",
            "            </a>\n",
            "           </span>\n",
            "           and\n",
            "           <span data-testid=\"byline\">\n",
            "            <a href=\"/by/anna-patty-hvebs\" title=\"Articles by Anna Patty\">\n",
            "             Anna Patty\n",
            "            </a>\n",
            "           </span>\n",
            "          </span>\n",
            "         </h5>\n",
            "         <div class=\"_3xKNx\">\n",
            "          <span class=\"_1IjU5\">\n",
            "           Updated\n",
            "          </span>\n",
            "          <span class=\"_2xetH\">\n",
            "           <time class=\"_2_zR-\" data-testid=\"datetime\" datetime=\"2020-03-17T18:07:15+11:00\">\n",
            "            March 17, 2020 — 6.07pm\n",
            "           </time>\n",
            "          </span>\n",
            "          <span class=\"_2tV7D\" hidden=\"\">\n",
            "           first published\n",
            "           <!-- -->\n",
            "           at\n",
            "           <time class=\"_2_zR-\" data-testid=\"datetime\" datetime=\"2020-03-17T11:38:26+11:00\">\n",
            "            11.38am\n",
            "           </time>\n",
            "          </span>\n",
            "         </div>\n",
            "        </div>\n",
            "       </div>\n",
            "       <div class=\"_2CSKo noPrint\">\n",
            "        <div class=\"_1KqZ_\">\n",
            "         <div class=\"hLTvJ\">\n",
            "          <button aria-checked=\"false\" aria-describedby=\"saveTooltip\" aria-label=\"Save article to read later\" class=\"_31ZN0\" role=\"switch\" type=\"button\">\n",
            "           <svg aria-hidden=\"true\" class=\"QMY9O _11R7m\" focusable=\"false\" height=\"1em\" width=\"1em\">\n",
            "            <use xlink:href=\"#icon-save\">\n",
            "            </use>\n",
            "           </svg>\n",
            "           <span class=\"_3-fU6\">\n",
            "            Save\n",
            "           </span>\n",
            "          </button>\n",
            "          <div aria-hidden=\"true\" class=\"_1lwFz uXbxr\" id=\"saveTooltip\" role=\"tooltip\">\n",
            "           <button>\n",
            "            Log in\n",
            "           </button>\n",
            "           ,\n",
            "           <!-- -->\n",
            "           <a data-testid=\"login-register\" href=\"https://smh.myfairfax.com.au/channel/zHE9EWDHf1XPuz3Phk0YIg/members/signups/new?callback_uri=\">\n",
            "            register\n",
            "           </a>\n",
            "           <!-- -->\n",
            "           or\n",
            "           <a href=\"https://subscribe.smh.com.au/?promote_channel=HI_HL_GNL\">\n",
            "            subscribe\n",
            "           </a>\n",
            "           <!-- -->\n",
            "           to save articles for later.\n",
            "          </div>\n",
            "          <div>\n",
            "           <div aria-hidden=\"true\" class=\"_1lwFz WUf_a _1pHo1\" id=\"onboardingTooltip\" role=\"tooltip\">\n",
            "            <h3>\n",
            "             Save articles for later\n",
            "            </h3>\n",
            "            <p>\n",
            "             Add articles to your saved list and come back to them any time.\n",
            "            </p>\n",
            "            <button class=\"_2YSi8 _17BTN _3_hLE\" data-ffx-event-action=\"cta click\" data-ffx-event-category=\"save onboarding\" data-ffx-event-label=\"got it - part 1\" data-ffx-hittype=\"event\">\n",
            "             Got it\n",
            "            </button>\n",
            "           </div>\n",
            "          </div>\n",
            "         </div>\n",
            "         <div class=\"_2Cn91\">\n",
            "          <div class=\"_2KkCz\">\n",
            "           <button class=\"_30X7v _2-NUy\" data-ffx-event-action=\"cta click\" data-ffx-event-category=\"component\" data-ffx-event-label=\"font size normal\" data-ffx-event-value=\"0\" data-ffx-hittype=\"event\">\n",
            "            Normal text size\n",
            "           </button>\n",
            "           <button class=\"_3Rq_0\" data-ffx-event-action=\"cta click\" data-ffx-event-category=\"component\" data-ffx-event-label=\"font size large\" data-ffx-event-value=\"0\" data-ffx-hittype=\"event\">\n",
            "            Larger text size\n",
            "           </button>\n",
            "           <button class=\"_3VkdU\" data-ffx-event-action=\"cta click\" data-ffx-event-category=\"component\" data-ffx-event-label=\"font size extra large\" data-ffx-event-value=\"0\" data-ffx-hittype=\"event\">\n",
            "            Very large text size\n",
            "           </button>\n",
            "          </div>\n",
            "         </div>\n",
            "        </div>\n",
            "       </div>\n",
            "      </section>\n",
            "      <section class=\"_1Rw6X\" data-testid=\"article-body-top\">\n",
            "       <aside class=\"_2GZaf\">\n",
            "        <div class=\"_3sCHz\">\n",
            "         <div class=\"adWrapper _2UMq- noPrint\" data-testid=\"ad\">\n",
            "          <small class=\"_3ToRr\">\n",
            "           Advertisement\n",
            "          </small>\n",
            "          <div class=\"\" id=\"adSlot-2\">\n",
            "          </div>\n",
            "         </div>\n",
            "        </div>\n",
            "       </aside>\n",
            "       <div class=\"_1ysFk\" data-testid=\"article-body\">\n",
            "        <div>\n",
            "         <div class=\"_5JLqO\">\n",
            "          <div class=\"_1Ld7U\" id=\"beyondwords-player\">\n",
            "          </div>\n",
            "          <div class=\"_3Fhwk\" data-testid=\"showPlayerOverlay\">\n",
            "          </div>\n",
            "         </div>\n",
            "         <div class=\"_1665V _2q-Vk\" data-testid=\"body-content\">\n",
            "          <p>\n",
            "           The University of Sydney will suspend all face-to-face teaching from Monday and move fully online while Macquarie University has cancelled classes altogether in order to make the digital transition, revealing one of its students tested positive for COVID-19.\n",
            "          </p>\n",
            "          <p>\n",
            "           The University of Sydney's 10,000 staff members have been encouraged to work remotely to slow the spread of coronavirus, but the campus Wi-Fi network and facilities will remain open with enhanced cleaning protocols and social distancing measures.\n",
            "          </p>\n",
            "          <figure class=\"_3ujPS _3x3-4 RMwbY _2XZQH\" data-testid=\"image\">\n",
            "           <div aria-label=\"enlarge image\" class=\"_1lwW_\" role=\"button\" tabindex=\"0\">\n",
            "            <picture class=\"\">\n",
            "             <source height=\"494\" media=\"(min-width: 1024px)\" srcset=\"https://static.ffx.io/images/$zoom_0.378%2C$multiply_0.9788%2C$ratio_1.5%2C$width_756%2C$x_0%2C$y_0/t_crop_custom/q_86%2Cf_auto/a55013287ad8bff02b821a4b1e189316a0ca3580, https://static.ffx.io/images/$zoom_0.378%2C$multiply_1.9577%2C$ratio_1.5%2C$width_756%2C$x_0%2C$y_0/t_crop_custom/q_62%2Cf_auto/a55013287ad8bff02b821a4b1e189316a0ca3580 2x\" width=\"740\"/>\n",
            "             <source height=\"512\" media=\"(min-width: 768px)\" srcset=\"https://static.ffx.io/images/$zoom_0.378%2C$multiply_1.0159%2C$ratio_1.5%2C$width_756%2C$x_0%2C$y_0/t_crop_custom/q_86%2Cf_auto/a55013287ad8bff02b821a4b1e189316a0ca3580, https://static.ffx.io/images/$zoom_0.378%2C$multiply_2.0317%2C$ratio_1.5%2C$width_756%2C$x_0%2C$y_0/t_crop_custom/q_62%2Cf_auto/a55013287ad8bff02b821a4b1e189316a0ca3580 2x\" width=\"768\"/>\n",
            "             <img alt=\"Sydney University will move fully online from next week.\" height=\"390\" src=\"https://static.ffx.io/images/$zoom_0.378%2C$multiply_0.7725%2C$ratio_1.5%2C$width_756%2C$x_0%2C$y_0/t_crop_custom/q_86%2Cf_auto/a55013287ad8bff02b821a4b1e189316a0ca3580\" srcset=\"https://static.ffx.io/images/$zoom_0.378%2C$multiply_0.7725%2C$ratio_1.5%2C$width_756%2C$x_0%2C$y_0/t_crop_custom/q_86%2Cf_auto/a55013287ad8bff02b821a4b1e189316a0ca3580, https://static.ffx.io/images/$zoom_0.378%2C$multiply_1.545%2C$ratio_1.5%2C$width_756%2C$x_0%2C$y_0/t_crop_custom/q_62%2Cf_auto/a55013287ad8bff02b821a4b1e189316a0ca3580 2x\" width=\"584\"/>\n",
            "            </picture>\n",
            "           </div>\n",
            "           <figcaption class=\"_3CZmy\">\n",
            "            <p>\n",
            "             <span class=\"_2Li3P\">\n",
            "              Sydney University will move fully online from next week.\n",
            "             </span>\n",
            "             <cite class=\"ojLwA\">\n",
            "              <span class=\"_30ROC\">\n",
            "               Credit:\n",
            "              </span>\n",
            "              Louise Kennerley\n",
            "             </cite>\n",
            "            </p>\n",
            "           </figcaption>\n",
            "          </figure>\n",
            "          <p>\n",
            "           Courses with labs and practical components will be adapted for online or suspended until later in the semester while clinical placements for health students will go ahead under strict guidelines, Vice-Chancellor Michael Spence wrote to staff on Tuesday afternoon.\n",
            "          </p>\n",
            "          <p>\n",
            "           \"We are anticipating this will be for the whole of semester and we’re planning on that,\" Dr Spence told the\n",
            "           <em>\n",
            "            Herald.\n",
            "           </em>\n",
            "           He said some business school courses had been designed from scratch, while teachers would adapt other courses throughout semester based on student feedback.\n",
            "          </p>\n",
            "         </div>\n",
            "         <div class=\"_1lC_G\">\n",
            "         </div>\n",
            "         <div class=\"_1665V _2q-Vk\" data-testid=\"body-content\">\n",
            "          <p>\n",
            "           \"We’ve put a lot of effort and thought into how to do it. I think this is a tremendous opportunity. This could be an interesting pedagogical experiment,\" he said.\n",
            "          </p>\n",
            "          <p>\n",
            "           The university\n",
            "           <a href=\"/link/follow-20170101-p546ef\">\n",
            "            has already projected $200 million losses due to coronavirus\n",
            "           </a>\n",
            "           . Dr Spence said the expense of adapting courses, bolstering IT systems and student support would \"cost us more overall\" than regular teaching.\n",
            "          </p>\n",
            "          <p>\n",
            "           \"At the moment we have to spend money to put education online to make sure our students' experience is uninterrupted as possible. There has been an overwhelming response from students that [is what they want].\"\n",
            "          </p>\n",
            "          <p>\n",
            "           Universities Australia deputy chief executive officer Anne-Marie Lansdown said 39 universities were providing online learning where possible amid the coronavirus pandemic. She said the challenge was increasing the amount of content that can be put online in a very short period of time.\n",
            "          </p>\n",
            "          <p>\n",
            "           \"For some courses it will be much harder – especially those with significant practical or technical requirements,\" Ms Lansdown said. \"In the case of practical-based learning, where online may not be possible, universities are offering maximum flexibility, including delaying or deferring those components.\"\n",
            "          </p>\n",
            "         </div>\n",
            "        </div>\n",
            "       </div>\n",
            "      </section>\n",
            "      <div class=\"_1FVfK\">\n",
            "       <div class=\"adWrapper _2UMq- noPrint\" data-testid=\"ad\">\n",
            "        <small class=\"_3ToRr\">\n",
            "         Advertisement\n",
            "        </small>\n",
            "        <div class=\"\" id=\"adSlot-3\">\n",
            "        </div>\n",
            "       </div>\n",
            "      </div>\n",
            "      <section class=\"vPaWe\" data-testid=\"article-body-bottom\">\n",
            "       <div class=\"_1ysFk\">\n",
            "        <div>\n",
            "         <div class=\"_1665V _2q-Vk\" data-testid=\"body-content\">\n",
            "          <div class=\"ymInT _3uJpn _3by58 noPrint\">\n",
            "           <span class=\"_2wzgv D5idv _3lVFK\">\n",
            "            <span class=\"_29Qt8\">\n",
            "            </span>\n",
            "            <span class=\"_3qqDc\">\n",
            "             Loading\n",
            "            </span>\n",
            "           </span>\n",
            "          </div>\n",
            "          <p>\n",
            "           Macquarie Vice-Chancellor Professor Bruce Dowton said in an email to staff on Tuesday morning that face-to-face and online teaching will be suspended for 12 days from Wednesday while the university transitions to online delivery of lectures and seminars.\n",
            "          </p>\n",
            "          <p>\n",
            "           \"It will also allow us to redesign campus-based delivery of our units to modes that support social distancing and remote support,\" he said.\n",
            "          </p>\n",
            "          <p>\n",
            "           Hours later, Macquarie confirmed a student had tested positive for COVID-19 the day before, and that several locations on campus had been cleaned overnight.\n",
            "          </p>\n",
            "          <p>\n",
            "           \"The current advice is that the rest of campus can continue to operate as normal after the completion of intensive cleaning operations and in line with ... moving to increase online delivery of educational programs,\" a spokesperson said.\n",
            "          </p>\n",
            "         </div>\n",
            "         <div class=\"_1lC_G\">\n",
            "         </div>\n",
            "         <div class=\"_1665V _2q-Vk\" data-testid=\"body-content\">\n",
            "          <p>\n",
            "           But students were concerned they had not been told where the infected student had been on campus and whether some needed to self-isolate.\n",
            "          </p>\n",
            "          <p>\n",
            "           \"Many of the students are shocked that we could be left in the dark and that the university has not been able to make decisions for weeks about how to handle the virus situation,\" one student, who requested anonymity, said.\n",
            "          </p>\n",
            "          <p>\n",
            "           The surrounding area of Macquarie Park was\n",
            "           <a href=\"/link/follow-20170101-p546lf\">\n",
            "            the first hotspot for coronavirus community transmission in Sydney\n",
            "           </a>\n",
            "           . Macquarie's mid-semester Easter break, due to take place between April 13-26, will now be a normal teaching period. Staff have been encouraged to work from home and non-essential events will been cancelled.\n",
            "          </p>\n",
            "          <p>\n",
            "           The University of NSW on Tuesday confirmed a third student tested positive for COVID-19 and had exhibited mild symptoms while in a three-hour evening science class last week.\n",
            "          </p>\n",
            "          <p>\n",
            "           UNSW is\n",
            "           <a href=\"/link/follow-20170101-p54ag0\">\n",
            "            making a quick transition to online learning\n",
            "           </a>\n",
            "           and its law school, which does not routinely record its lectures, will cease face-to-face lessons from Wednesday to move all classes online.\n",
            "          </p>\n",
            "         </div>\n",
            "         <div class=\"_1lC_G\">\n",
            "         </div>\n",
            "         <div class=\"_1665V _2q-Vk\" data-testid=\"body-content\">\n",
            "          <p>\n",
            "           \"We are currently working to finalise details around classes and, down the track, assessment... There will be some changes to the way that courses are delivered, including to involve more online activities as a replacement for classroom face-to-face discussions. Those are likely to evolve over the term,\" acting head of the law school Melanie Schwartz wrote to students on Monday.\n",
            "           <em>\n",
            "            <strong>\n",
            "            </strong>\n",
            "           </em>\n",
            "          </p>\n",
            "          <h3>\n",
            "           Unis try to avoid infection in share accommodation\n",
            "          </h3>\n",
            "          <p>\n",
            "           Universities around the country are also seeking advice from public health experts on how to minimise the spread of COVID-19 among students living in campus accommodation and other share housing.\n",
            "          </p>\n",
            "          <p>\n",
            "           The Australian National University said many students congregated in residential halls \"so across our student residences we’re implementing considered social distancing measures for our dining halls, kitchens and self-catering\".\n",
            "          </p>\n",
            "          <p>\n",
            "           \"We’ve also reformatted social and academic support events and activities so that they have smaller numbers (25 people or less) and in some cases, these will be offered as online connections – we’re being creative to ensure pastoral care and community wellbeing are maintained,\" a spokesperson said.\n",
            "          </p>\n",
            "         </div>\n",
            "         <div class=\"_1lC_G\">\n",
            "         </div>\n",
            "         <div class=\"_1665V _2q-Vk\" data-testid=\"body-content\">\n",
            "          <div class=\"ymInT _3uJpn _3by58 noPrint\">\n",
            "           <span class=\"_2wzgv D5idv _3lVFK\">\n",
            "            <span class=\"_29Qt8\">\n",
            "            </span>\n",
            "            <span class=\"_3qqDc\">\n",
            "             Loading\n",
            "            </span>\n",
            "           </span>\n",
            "          </div>\n",
            "          <p>\n",
            "           University of Sydney-owned student accommodation and residential colleges have also started additional cleaning and sanitation of common areas. Students are being provided with hand sanitisers, tissues and face masks and advised to keep a physical distance from each other. Housing\n",
            "           <a href=\"/link/follow-20170101-p5479m\">\n",
            "            is being provided\n",
            "           </a>\n",
            "           to students that live in university-owned accommodation who need to self isolate.\n",
            "          </p>\n",
            "          <p>\n",
            "           Dining times have also been extended to allow students to stagger their meals and restrict access to communal utensils.\n",
            "          </p>\n",
            "          <p>\n",
            "           The University of NSW has asked students who need to self-isolate to avoid communal areas and avoid sharing utensils and tea towels. They have been advised to use separate bathroom and kitchen facilities and to regularly clean shared facilities. They should also wear a surgical mask while in the same room with any other people.\n",
            "          </p>\n",
            "         </div>\n",
            "        </div>\n",
            "        <div class=\"noPrint\">\n",
            "         <div>\n",
            "         </div>\n",
            "         <div>\n",
            "         </div>\n",
            "        </div>\n",
            "        <div class=\"_22FRK _2spQv\">\n",
            "         <section class=\"aKWhn noPrint\" id=\"endOfArticle\">\n",
            "          <div class=\"dLGbc\">\n",
            "           <div class=\"hLTvJ\">\n",
            "            <button aria-checked=\"false\" aria-describedby=\"saveTooltip\" aria-label=\"Save article to read later\" class=\"_31ZN0\" role=\"switch\" type=\"button\">\n",
            "             <svg aria-hidden=\"true\" class=\"QMY9O _11R7m\" focusable=\"false\" height=\"1em\" width=\"1em\">\n",
            "              <use xlink:href=\"#icon-save\">\n",
            "              </use>\n",
            "             </svg>\n",
            "             <span class=\"_3-fU6\">\n",
            "              Save\n",
            "             </span>\n",
            "            </button>\n",
            "            <div aria-hidden=\"true\" class=\"_1lwFz uXbxr\" id=\"saveTooltip\" role=\"tooltip\">\n",
            "             <button>\n",
            "              Log in\n",
            "             </button>\n",
            "             ,\n",
            "             <!-- -->\n",
            "             <a data-testid=\"login-register\" href=\"https://smh.myfairfax.com.au/channel/zHE9EWDHf1XPuz3Phk0YIg/members/signups/new?callback_uri=\">\n",
            "              register\n",
            "             </a>\n",
            "             <!-- -->\n",
            "             or\n",
            "             <a href=\"https://subscribe.smh.com.au/?promote_channel=HI_HL_GNL\">\n",
            "              subscribe\n",
            "             </a>\n",
            "             <!-- -->\n",
            "             to save articles for later.\n",
            "            </div>\n",
            "           </div>\n",
            "           <div class=\"_8Cum8\">\n",
            "            <a class=\"_4oUp_\" href=\"http://rightsportal.copyright.com.au/pages/republicationpage.aspx?author=Natassia%20Chrysanthos%20and%20Anna%20Patty&amp;publication=SMH&amp;publicationdate=2020-03-17T07%3A07%3A15Z&amp;publisher=fxj&amp;title=University%20of%20Sydney%20to%20move%20fully%20online%20while%20Macquarie%20cancels%20classes&amp;url=https%3A%2F%2Fwww.smh.com.au%2Fnational%2Fnsw%2Fmacquarie-uni-suspends-teaching-for-10-days-to-move-learning-online-20200317-p54avs.html\">\n",
            "             License this article\n",
            "            </a>\n",
            "           </div>\n",
            "           <div class=\"ZFgNO\">\n",
            "            <ul class=\"_3Nz34\">\n",
            "             <li>\n",
            "              <a class=\"_2Tz1_\" href=\"/coronavirus-pandemic\">\n",
            "               Coronavirus pandemic\n",
            "              </a>\n",
            "             </li>\n",
            "             <li>\n",
            "              <a class=\"_2Tz1_\" href=\"/education\">\n",
            "               Education\n",
            "              </a>\n",
            "             </li>\n",
            "             <li>\n",
            "              <a class=\"_2Tz1_\" href=\"/topic/university-63k\">\n",
            "               University\n",
            "              </a>\n",
            "             </li>\n",
            "            </ul>\n",
            "           </div>\n",
            "          </div>\n",
            "         </section>\n",
            "         <div class=\"_2Cg_3\">\n",
            "          <div class=\"iQMz1\" hidden=\"\">\n",
            "           <div class=\"_1Oml5\">\n",
            "            <a class=\"_3NFLJ\" href=\"/by/natassia-chrysanthos-h17jwj\" title=\"Articles by Natassia Chrysanthos\">\n",
            "             Natassia Chrysanthos\n",
            "            </a>\n",
            "            is the federal health reporter for The Sydney Morning Herald and The Age, based at Parliament House in Canberra.\n",
            "            <span class=\"_11p0O\">\n",
            "             Connect via\n",
            "             <a href=\"//twitter.com/natassiazc?lang=en\" rel=\"noopener noreferrer\" target=\"_blank\">\n",
            "              Twitter\n",
            "             </a>\n",
            "             or\n",
            "             <a href=\"mailto:n.chrysanthos@smh.com.au\">\n",
            "              email\n",
            "             </a>\n",
            "             .\n",
            "            </span>\n",
            "           </div>\n",
            "          </div>\n",
            "          <div class=\"iQMz1\" hidden=\"\">\n",
            "           <div class=\"_1Oml5\">\n",
            "            <a class=\"_3NFLJ\" href=\"/by/anna-patty-hvebs\" title=\"Articles by Anna Patty\">\n",
            "             Anna Patty\n",
            "            </a>\n",
            "            is Consumer Affairs Editor and Senior Writer for The Sydney Morning Herald. She is a former Workplace Editor, Education Editor, State Political Reporter and Health Reporter.\n",
            "            <span class=\"_11p0O\">\n",
            "             Connect via\n",
            "             <a href=\"//twitter.com/annapattysmh?lang=en\" rel=\"noopener noreferrer\" target=\"_blank\">\n",
            "              Twitter\n",
            "             </a>\n",
            "             ,\n",
            "             <a href=\"//www.facebook.com/Anna-Patty-1480824402179729\" rel=\"noopener noreferrer\" target=\"_blank\">\n",
            "              Facebook\n",
            "             </a>\n",
            "             or\n",
            "             <a href=\"mailto:apatty@theage.com.au\">\n",
            "              email\n",
            "             </a>\n",
            "             .\n",
            "            </span>\n",
            "           </div>\n",
            "          </div>\n",
            "         </div>\n",
            "         <div class=\"noPrint\">\n",
            "          <section aria-busy=\"true\" aria-live=\"polite\" class=\"_2zaYr n422E\" style=\"height:380px\">\n",
            "           <header class=\"_2qhpu\">\n",
            "            <h2 class=\"_2qhpu\">\n",
            "             Most Viewed in National\n",
            "            </h2>\n",
            "           </header>\n",
            "           <div class=\"_29X_Z\">\n",
            "            <span class=\"_2wzgv D5idv _3lVFK\">\n",
            "             <span class=\"_29Qt8\">\n",
            "             </span>\n",
            "             <span class=\"_3qqDc\">\n",
            "              Loading\n",
            "             </span>\n",
            "            </span>\n",
            "           </div>\n",
            "          </section>\n",
            "         </div>\n",
            "        </div>\n",
            "       </div>\n",
            "       <aside class=\"_1ki1P noPrint\">\n",
            "        <div class=\"_2MFEO\">\n",
            "         <div class=\"_3DvAw noPrint\" id=\"articlePartnerStories\">\n",
            "          <h3>\n",
            "           From our partners\n",
            "          </h3>\n",
            "          <div class=\"adWrapper _2lnjx\">\n",
            "           <div class=\"_2Tsxq\" data-testid=\"sponsored-story-tile\" id=\"adSlot-native-1\">\n",
            "            <div class=\"_2bMG3\">\n",
            "             <div class=\"_1vxqb\">\n",
            "              <svg aria-labelledby=\"Loading 3rd party ad content\" ltr=\"true\" preserveaspectratio=\"none\" role=\"img\" viewbox=\"0 0 206 116\">\n",
            "               <title>\n",
            "                Loading 3rd party ad content\n",
            "               </title>\n",
            "               <rect clip-path=\"url(#u9ls3e43vf)\" height=\"116\" style=\"fill:url(#pgc89j1h8p)\" width=\"206\" x=\"0\" y=\"0\">\n",
            "               </rect>\n",
            "               <defs>\n",
            "                <clippath id=\"u9ls3e43vf\">\n",
            "                 <rect height=\"116\" rx=\"0\" ry=\"0\" width=\"206\" x=\"0\" y=\"4\">\n",
            "                 </rect>\n",
            "                </clippath>\n",
            "                <lineargradient id=\"pgc89j1h8p\">\n",
            "                 <stop offset=\"0%\" stop-color=\"#f6f6f6\" stop-opacity=\"1\">\n",
            "                  <animate attributename=\"offset\" dur=\"2s\" keytimes=\"0; 0.25; 1\" repeatcount=\"indefinite\" values=\"-2; -2; 1\">\n",
            "                  </animate>\n",
            "                 </stop>\n",
            "                 <stop offset=\"50%\" stop-color=\"#f0f0f0\" stop-opacity=\"1\">\n",
            "                  <animate attributename=\"offset\" dur=\"2s\" keytimes=\"0; 0.25; 1\" repeatcount=\"indefinite\" values=\"-1; -1; 2\">\n",
            "                  </animate>\n",
            "                 </stop>\n",
            "                 <stop offset=\"100%\" stop-color=\"#f6f6f6\" stop-opacity=\"1\">\n",
            "                  <animate attributename=\"offset\" dur=\"2s\" keytimes=\"0; 0.25; 1\" repeatcount=\"indefinite\" values=\"0; 0; 3\">\n",
            "                  </animate>\n",
            "                 </stop>\n",
            "                </lineargradient>\n",
            "               </defs>\n",
            "              </svg>\n",
            "             </div>\n",
            "             <div class=\"he87U\">\n",
            "              <svg aria-labelledby=\"Loading 3rd party ad content\" ltr=\"true\" preserveaspectratio=\"none\" role=\"img\" style=\"height:100px;width:100%\" viewbox=\"0 0 360 100\">\n",
            "               <title>\n",
            "                Loading 3rd party ad content\n",
            "               </title>\n",
            "               <rect clip-path=\"url(#76g78wdntye)\" height=\"100\" style=\"fill:url(#xs5xsmlna8)\" width=\"360\" x=\"0\" y=\"0\">\n",
            "               </rect>\n",
            "               <defs>\n",
            "                <clippath id=\"76g78wdntye\">\n",
            "                 <rect height=\"14\" rx=\"2\" ry=\"2\" width=\"90\" x=\"0\" y=\"4\">\n",
            "                 </rect>\n",
            "                 <rect class=\"cH9H_\" height=\"18\" rx=\"2\" ry=\"2\" width=\"90%\" x=\"0\" y=\"34\">\n",
            "                 </rect>\n",
            "                 <rect class=\"_9d-2y\" height=\"18\" rx=\"2\" ry=\"2\" width=\"80%\" x=\"0\" y=\"56\">\n",
            "                 </rect>\n",
            "                 <rect class=\"_1k_M1\" height=\"18\" rx=\"2\" ry=\"2\" width=\"70%\" x=\"0\" y=\"78\">\n",
            "                 </rect>\n",
            "                </clippath>\n",
            "                <lineargradient id=\"xs5xsmlna8\">\n",
            "                 <stop offset=\"0%\" stop-color=\"#f6f6f6\" stop-opacity=\"1\">\n",
            "                  <animate attributename=\"offset\" dur=\"2s\" keytimes=\"0; 0.25; 1\" repeatcount=\"indefinite\" values=\"-2; -2; 1\">\n",
            "                  </animate>\n",
            "                 </stop>\n",
            "                 <stop offset=\"50%\" stop-color=\"#f0f0f0\" stop-opacity=\"1\">\n",
            "                  <animate attributename=\"offset\" dur=\"2s\" keytimes=\"0; 0.25; 1\" repeatcount=\"indefinite\" values=\"-1; -1; 2\">\n",
            "                  </animate>\n",
            "                 </stop>\n",
            "                 <stop offset=\"100%\" stop-color=\"#f6f6f6\" stop-opacity=\"1\">\n",
            "                  <animate attributename=\"offset\" dur=\"2s\" keytimes=\"0; 0.25; 1\" repeatcount=\"indefinite\" values=\"0; 0; 3\">\n",
            "                  </animate>\n",
            "                 </stop>\n",
            "                </lineargradient>\n",
            "               </defs>\n",
            "              </svg>\n",
            "             </div>\n",
            "            </div>\n",
            "           </div>\n",
            "          </div>\n",
            "          <div class=\"adWrapper _2lnjx\">\n",
            "           <div class=\"_1GUN5\" data-testid=\"sponsored-story-tile\" id=\"adSlot-native-2\">\n",
            "            <div class=\"_2bMG3\">\n",
            "             <div class=\"_1vxqb\">\n",
            "              <svg aria-labelledby=\"Loading 3rd party ad content\" ltr=\"true\" preserveaspectratio=\"none\" role=\"img\" viewbox=\"0 0 206 116\">\n",
            "               <title>\n",
            "                Loading 3rd party ad content\n",
            "               </title>\n",
            "               <rect clip-path=\"url(#4di7ehqq6lf)\" height=\"116\" style=\"fill:url(#qh1skcf9j5)\" width=\"206\" x=\"0\" y=\"0\">\n",
            "               </rect>\n",
            "               <defs>\n",
            "                <clippath id=\"4di7ehqq6lf\">\n",
            "                 <rect height=\"116\" rx=\"0\" ry=\"0\" width=\"206\" x=\"0\" y=\"4\">\n",
            "                 </rect>\n",
            "                </clippath>\n",
            "                <lineargradient id=\"qh1skcf9j5\">\n",
            "                 <stop offset=\"0%\" stop-color=\"#f6f6f6\" stop-opacity=\"1\">\n",
            "                  <animate attributename=\"offset\" dur=\"2s\" keytimes=\"0; 0.25; 1\" repeatcount=\"indefinite\" values=\"-2; -2; 1\">\n",
            "                  </animate>\n",
            "                 </stop>\n",
            "                 <stop offset=\"50%\" stop-color=\"#f0f0f0\" stop-opacity=\"1\">\n",
            "                  <animate attributename=\"offset\" dur=\"2s\" keytimes=\"0; 0.25; 1\" repeatcount=\"indefinite\" values=\"-1; -1; 2\">\n",
            "                  </animate>\n",
            "                 </stop>\n",
            "                 <stop offset=\"100%\" stop-color=\"#f6f6f6\" stop-opacity=\"1\">\n",
            "                  <animate attributename=\"offset\" dur=\"2s\" keytimes=\"0; 0.25; 1\" repeatcount=\"indefinite\" values=\"0; 0; 3\">\n",
            "                  </animate>\n",
            "                 </stop>\n",
            "                </lineargradient>\n",
            "               </defs>\n",
            "              </svg>\n",
            "             </div>\n",
            "             <div class=\"he87U\">\n",
            "              <svg aria-labelledby=\"Loading 3rd party ad content\" ltr=\"true\" preserveaspectratio=\"none\" role=\"img\" style=\"height:100px;width:100%\" viewbox=\"0 0 360 100\">\n",
            "               <title>\n",
            "                Loading 3rd party ad content\n",
            "               </title>\n",
            "               <rect clip-path=\"url(#q267knkse4)\" height=\"100\" style=\"fill:url(#a41v73mw8vp)\" width=\"360\" x=\"0\" y=\"0\">\n",
            "               </rect>\n",
            "               <defs>\n",
            "                <clippath id=\"q267knkse4\">\n",
            "                 <rect height=\"14\" rx=\"2\" ry=\"2\" width=\"90\" x=\"0\" y=\"4\">\n",
            "                 </rect>\n",
            "                 <rect class=\"cH9H_\" height=\"18\" rx=\"2\" ry=\"2\" width=\"90%\" x=\"0\" y=\"34\">\n",
            "                 </rect>\n",
            "                 <rect class=\"_9d-2y\" height=\"18\" rx=\"2\" ry=\"2\" width=\"80%\" x=\"0\" y=\"56\">\n",
            "                 </rect>\n",
            "                 <rect class=\"_1k_M1\" height=\"18\" rx=\"2\" ry=\"2\" width=\"70%\" x=\"0\" y=\"78\">\n",
            "                 </rect>\n",
            "                </clippath>\n",
            "                <lineargradient id=\"a41v73mw8vp\">\n",
            "                 <stop offset=\"0%\" stop-color=\"#f6f6f6\" stop-opacity=\"1\">\n",
            "                  <animate attributename=\"offset\" dur=\"2s\" keytimes=\"0; 0.25; 1\" repeatcount=\"indefinite\" values=\"-2; -2; 1\">\n",
            "                  </animate>\n",
            "                 </stop>\n",
            "                 <stop offset=\"50%\" stop-color=\"#f0f0f0\" stop-opacity=\"1\">\n",
            "                  <animate attributename=\"offset\" dur=\"2s\" keytimes=\"0; 0.25; 1\" repeatcount=\"indefinite\" values=\"-1; -1; 2\">\n",
            "                  </animate>\n",
            "                 </stop>\n",
            "                 <stop offset=\"100%\" stop-color=\"#f6f6f6\" stop-opacity=\"1\">\n",
            "                  <animate attributename=\"offset\" dur=\"2s\" keytimes=\"0; 0.25; 1\" repeatcount=\"indefinite\" values=\"0; 0; 3\">\n",
            "                  </animate>\n",
            "                 </stop>\n",
            "                </lineargradient>\n",
            "               </defs>\n",
            "              </svg>\n",
            "             </div>\n",
            "            </div>\n",
            "           </div>\n",
            "          </div>\n",
            "         </div>\n",
            "         <div class=\"_1R0g5\">\n",
            "          <div class=\"sticky-outer-wrapper\">\n",
            "           <div class=\"sticky-inner-wrapper\" style=\"position:relative;top:0px\">\n",
            "            <div class=\"adWrapper _2UMq- noPrint\" data-testid=\"ad\">\n",
            "             <small class=\"_3ToRr\">\n",
            "              Advertisement\n",
            "             </small>\n",
            "             <div class=\"\" id=\"adSlot-4\">\n",
            "             </div>\n",
            "            </div>\n",
            "           </div>\n",
            "          </div>\n",
            "         </div>\n",
            "        </div>\n",
            "       </aside>\n",
            "      </section>\n",
            "     </article>\n",
            "     <div class=\"noPrint\">\n",
            "     </div>\n",
            "    </div>\n",
            "   </main>\n",
            "   <footer class=\"y77aF noPrint\" data-testid=\"footer\" id=\"footer\">\n",
            "    <div class=\"_39_V0\">\n",
            "     <div class=\"_3uPYr _2AynF\">\n",
            "      <a class=\"_2ABN- YClUs\" href=\"/\">\n",
            "       <h2>\n",
            "        The Sydney Morning Herald\n",
            "       </h2>\n",
            "      </a>\n",
            "     </div>\n",
            "     <ul class=\"_2tZpI\" data-testid=\"footer-socials\">\n",
            "      <li>\n",
            "       <a data-testid=\"footer-socials-link\" href=\"https://twitter.com/smh\">\n",
            "        <span>\n",
            "         Twitter\n",
            "        </span>\n",
            "        <svg aria-hidden=\"true\" class=\"QMY9O\" focusable=\"false\" height=\"24px\" width=\"24px\">\n",
            "         <use xlink:href=\"#icon-twitter\">\n",
            "         </use>\n",
            "        </svg>\n",
            "       </a>\n",
            "      </li>\n",
            "      <li>\n",
            "       <a data-testid=\"footer-socials-link\" href=\"http://www.facebook.com/sydneymorningherald\">\n",
            "        <span>\n",
            "         Facebook\n",
            "        </span>\n",
            "        <svg aria-hidden=\"true\" class=\"QMY9O\" focusable=\"false\" height=\"24px\" width=\"24px\">\n",
            "         <use xlink:href=\"#icon-facebook\">\n",
            "         </use>\n",
            "        </svg>\n",
            "       </a>\n",
            "      </li>\n",
            "      <li>\n",
            "       <a data-testid=\"footer-socials-link\" href=\"https://www.instagram.com/sydneymorningherald\">\n",
            "        <span>\n",
            "         Instagram\n",
            "        </span>\n",
            "        <svg aria-hidden=\"true\" class=\"QMY9O\" focusable=\"false\" height=\"24px\" width=\"24px\">\n",
            "         <use xlink:href=\"#icon-instagram\">\n",
            "         </use>\n",
            "        </svg>\n",
            "       </a>\n",
            "      </li>\n",
            "      <li>\n",
            "       <a data-testid=\"footer-socials-link\" href=\"/rssheadlines\">\n",
            "        <span>\n",
            "         RSS\n",
            "        </span>\n",
            "        <svg aria-hidden=\"true\" class=\"QMY9O\" focusable=\"false\" height=\"24px\" width=\"24px\">\n",
            "         <use xlink:href=\"#icon-rss\">\n",
            "         </use>\n",
            "        </svg>\n",
            "       </a>\n",
            "      </li>\n",
            "     </ul>\n",
            "     <section class=\"_2cb-t\">\n",
            "      <nav class=\"_3WLzB\" data-testid=\"footer-link-group\">\n",
            "       <h3 class=\"_2_Vga\">\n",
            "        <button class=\"_3amNM _17muu\">\n",
            "         <span class=\"_2g7Mb\" data-testid=\"footer-link-group-heading\">\n",
            "          Our Sites\n",
            "         </span>\n",
            "         <span class=\"_2hufO\">\n",
            "          <svg aria-hidden=\"true\" class=\"QMY9O\" focusable=\"false\" height=\"1em\" width=\"12px\">\n",
            "           <use xlink:href=\"#icon-arrowsdown\">\n",
            "           </use>\n",
            "          </svg>\n",
            "         </span>\n",
            "        </button>\n",
            "       </h3>\n",
            "       <ul aria-expanded=\"false\" class=\"_2q5mS\" role=\"region\">\n",
            "        <li>\n",
            "         <a data-testid=\"footer-link\" href=\"https://www.smh.com.au\">\n",
            "          The Sydney Morning Herald\n",
            "         </a>\n",
            "        </li>\n",
            "        <li>\n",
            "         <a data-testid=\"footer-link\" href=\"https://www.theage.com.au\">\n",
            "          The Age\n",
            "         </a>\n",
            "        </li>\n",
            "        <li>\n",
            "         <a data-testid=\"footer-link\" href=\"https://www.brisbanetimes.com.au\">\n",
            "          Brisbane Times\n",
            "         </a>\n",
            "        </li>\n",
            "        <li>\n",
            "         <a data-testid=\"footer-link\" href=\"https://www.watoday.com.au\">\n",
            "          WAtoday\n",
            "         </a>\n",
            "        </li>\n",
            "        <li>\n",
            "         <a data-testid=\"footer-link\" href=\"https://www.afr.com\">\n",
            "          The Australian Financial Review\n",
            "         </a>\n",
            "        </li>\n",
            "        <li>\n",
            "         <a data-testid=\"footer-link\" href=\"https://www.domain.com.au\">\n",
            "          Domain\n",
            "         </a>\n",
            "        </li>\n",
            "        <li>\n",
            "         <a data-testid=\"footer-link\" href=\"https://www.drive.com.au\">\n",
            "          Drive\n",
            "         </a>\n",
            "        </li>\n",
            "       </ul>\n",
            "      </nav>\n",
            "      <nav class=\"_3WLzB\" data-testid=\"footer-link-group\">\n",
            "       <h3 class=\"_2_Vga\">\n",
            "        <button class=\"_3amNM _17muu\">\n",
            "         <span class=\"_2g7Mb\" data-testid=\"footer-link-group-heading\">\n",
            "          Classifieds\n",
            "         </span>\n",
            "         <span class=\"_2hufO\">\n",
            "          <svg aria-hidden=\"true\" class=\"QMY9O\" focusable=\"false\" height=\"1em\" width=\"12px\">\n",
            "           <use xlink:href=\"#icon-arrowsdown\">\n",
            "           </use>\n",
            "          </svg>\n",
            "         </span>\n",
            "        </button>\n",
            "       </h3>\n",
            "       <ul aria-expanded=\"false\" class=\"_2q5mS\" role=\"region\">\n",
            "        <li>\n",
            "         <a data-testid=\"footer-link\" href=\"http://tributes.smh.com.au/obituaries/smh-au/\">\n",
            "          Tributes\n",
            "         </a>\n",
            "        </li>\n",
            "        <li>\n",
            "         <a data-testid=\"footer-link\" href=\"http://celebrations.smh.com.au/celebration/smh-au/\">\n",
            "          Celebrations\n",
            "         </a>\n",
            "        </li>\n",
            "        <li>\n",
            "         <a data-testid=\"footer-link\" href=\"https://advertisers.com.au\">\n",
            "          Place your ad\n",
            "         </a>\n",
            "        </li>\n",
            "        <li>\n",
            "         <a data-testid=\"footer-link\" href=\"https://www.commercialrealestate.com.au\">\n",
            "          Commercial Real Estate\n",
            "         </a>\n",
            "        </li>\n",
            "       </ul>\n",
            "      </nav>\n",
            "      <nav class=\"_3WLzB\" data-testid=\"footer-link-group\">\n",
            "       <h3 class=\"_2_Vga\">\n",
            "        <button class=\"_3amNM _17muu\">\n",
            "         <span class=\"_2g7Mb\" data-testid=\"footer-link-group-heading\">\n",
            "          The Sydney Morning Herald\n",
            "         </span>\n",
            "         <span class=\"_2hufO\">\n",
            "          <svg aria-hidden=\"true\" class=\"QMY9O\" focusable=\"false\" height=\"1em\" width=\"12px\">\n",
            "           <use xlink:href=\"#icon-arrowsdown\">\n",
            "           </use>\n",
            "          </svg>\n",
            "         </span>\n",
            "        </button>\n",
            "       </h3>\n",
            "       <ul aria-expanded=\"false\" class=\"_2q5mS\" role=\"region\">\n",
            "        <li>\n",
            "         <a data-testid=\"footer-link\" href=\"/contact-us\">\n",
            "          Contact &amp; support\n",
            "         </a>\n",
            "        </li>\n",
            "        <li>\n",
            "         <a data-testid=\"footer-link\" href=\"https://www.nineforbrands.com.au/advertising-enquiries/\">\n",
            "          Advertise with us\n",
            "         </a>\n",
            "        </li>\n",
            "        <li>\n",
            "         <a data-testid=\"footer-link\" href=\"https://smh.myfairfax.com.au/members/lite_session/new?callback_uri=https%3A%2F%2Fsmh.myfairfax.com.au%2Fbeta%2Fmembers%2Fmy_account%2Fnewsletters%3Fchannel_key%3DzHE9EWDHf1XPuz3Phk0YIg%26callback_uri%3Dhttps%253A%252F%252Fwww.smh.com.au&amp;channel_key=zHE9EWDHf1XPuz3Phk0YIg\">\n",
            "          Newsletters\n",
            "         </a>\n",
            "        </li>\n",
            "        <li>\n",
            "         <a data-testid=\"footer-link\" href=\"/siteguide/accessibility\">\n",
            "          Accessibility guide\n",
            "         </a>\n",
            "        </li>\n",
            "        <li>\n",
            "         <a data-testid=\"footer-link\" href=\"/siteguide\">\n",
            "          Sitemap\n",
            "         </a>\n",
            "        </li>\n",
            "        <li>\n",
            "         <a data-testid=\"footer-link\" href=\"https://consumer.licensing-publishing.nine.com.au\">\n",
            "          Photo sales\n",
            "         </a>\n",
            "        </li>\n",
            "        <li>\n",
            "         <a data-testid=\"footer-link\" href=\"https://thestore.com.au/products/custom-front-page\">\n",
            "          Purchase front pages\n",
            "         </a>\n",
            "        </li>\n",
            "        <li>\n",
            "         <a data-testid=\"footer-link\" href=\"https://professional.licensing-publishing.nine.com.au\">\n",
            "          Content licensing\n",
            "         </a>\n",
            "        </li>\n",
            "        <li>\n",
            "         <a data-testid=\"footer-link\" href=\"https://ninecareers.com.au/\">\n",
            "          Work with us\n",
            "         </a>\n",
            "        </li>\n",
            "        <li>\n",
            "         <a data-testid=\"footer-link\" href=\"https://login.nine.com.au/terms?client_id=smh\">\n",
            "          Terms of use\n",
            "         </a>\n",
            "        </li>\n",
            "        <li>\n",
            "         <a data-testid=\"footer-link\" href=\"https://login.nine.com.au/privacy?client_id=smh\">\n",
            "          Privacy policy\n",
            "         </a>\n",
            "        </li>\n",
            "        <li>\n",
            "         <a data-testid=\"footer-link\" href=\"https://www.presscouncil.org.au/what-we-do\">\n",
            "          Press Council\n",
            "         </a>\n",
            "        </li>\n",
            "        <li>\n",
            "         <a data-testid=\"footer-link\" href=\"/nine-publishing-charter-of-editorial-independence\">\n",
            "          Charter of Editorial Independence\n",
            "         </a>\n",
            "        </li>\n",
            "       </ul>\n",
            "      </nav>\n",
            "      <nav class=\"_3WLzB\" data-testid=\"footer-link-group\">\n",
            "       <h3 class=\"_2_Vga\">\n",
            "        <button class=\"_3amNM _17muu\">\n",
            "         <span class=\"_2g7Mb\" data-testid=\"footer-link-group-heading\">\n",
            "          Products &amp; Services\n",
            "         </span>\n",
            "         <span class=\"_2hufO\">\n",
            "          <svg aria-hidden=\"true\" class=\"QMY9O\" focusable=\"false\" height=\"1em\" width=\"12px\">\n",
            "           <use xlink:href=\"#icon-arrowsdown\">\n",
            "           </use>\n",
            "          </svg>\n",
            "         </span>\n",
            "        </button>\n",
            "       </h3>\n",
            "       <ul aria-expanded=\"false\" class=\"_2q5mS\" role=\"region\">\n",
            "        <li>\n",
            "         <a data-testid=\"footer-link\" href=\"https://subscribe.smh.com.au/?promote_channel=HI_FL_GNL\">\n",
            "          Subscription packages\n",
            "         </a>\n",
            "        </li>\n",
            "        <li>\n",
            "         <a data-testid=\"footer-link\" href=\"https://www.smh.com.au/myaccount\">\n",
            "          My account\n",
            "         </a>\n",
            "        </li>\n",
            "        <li>\n",
            "         <a data-testid=\"footer-link\" href=\"https://help.smh.com.au/hc/en-au\">\n",
            "          Subscriber FAQs\n",
            "         </a>\n",
            "        </li>\n",
            "        <li>\n",
            "         <a data-testid=\"footer-link\" href=\"https://www.smh.com.au/status\">\n",
            "          Delivery status\n",
            "         </a>\n",
            "        </li>\n",
            "        <li>\n",
            "         <a data-ffx-event-action=\"cta click\" data-ffx-event-attribute=\"footer\" data-ffx-event-category=\"component\" data-ffx-event-label=\"todays paper\" data-ffx-hittype=\"event\" data-testid=\"footer-todays-paper\" href=\"/todays-newspaper\">\n",
            "          Today’s Paper\n",
            "         </a>\n",
            "        </li>\n",
            "        <li>\n",
            "         <a data-ffx-event-action=\"cta click\" data-ffx-event-attribute=\"footer\" data-ffx-event-category=\"component\" data-ffx-event-label=\"goodfood guide\" data-ffx-hittype=\"event\" data-testid=\"footer-link\" href=\"/goodfood-guide\">\n",
            "          Good Food Guide\n",
            "         </a>\n",
            "        </li>\n",
            "        <li>\n",
            "         <a data-ffx-event-action=\"cta click\" data-ffx-event-attribute=\"footer\" data-ffx-event-category=\"component\" data-ffx-event-label=\"puzzles\" data-ffx-hittype=\"event\" data-testid=\"footer-link\" href=\"/puzzles\">\n",
            "          Daily Crosswords &amp; Sudoku\n",
            "         </a>\n",
            "        </li>\n",
            "       </ul>\n",
            "      </nav>\n",
            "     </section>\n",
            "     <div class=\"_1U4cI\">\n",
            "      <p>\n",
            "       Copyright ©\n",
            "       <!-- -->\n",
            "       2024\n",
            "      </p>\n",
            "      <div class=\"_1Z25A\">\n",
            "       <a class=\"_39qXI\" href=\"https://subscribe.smh.com.au/?promote_channel=HI_FL_GNL\">\n",
            "        Subscribe\n",
            "       </a>\n",
            "      </div>\n",
            "     </div>\n",
            "    </div>\n",
            "   </footer>\n",
            "  </div>\n",
            "  <div id=\"ZN_aWQOH5E46WdaZT0\">\n",
            "  </div>\n",
            " </body>\n",
            "</html>\n",
            "\n"
          ]
        }
      ]
    },
    {
      "cell_type": "markdown",
      "metadata": {
        "id": "8RlCBsYSPkVp"
      },
      "source": [
        "**Try &lt;p&gt;  tag**\n",
        "\n",
        "Using &lt;p&gt;  tag is a common way to extract the main contents of the online news articles. BUT, do not expect this always provides what you want."
      ]
    },
    {
      "cell_type": "code",
      "metadata": {
        "id": "uEx20icxPlDx",
        "colab": {
          "base_uri": "https://localhost:8080/"
        },
        "outputId": "26a77f3a-d102-41a1-94f6-d285ce6d469c"
      },
      "source": [
        "# The findAll() method returns all the specified tags, it is the same as find_all()\n",
        "# Set text=True will return only the specified tags with the text inside, you can try to set text=False to compare the difference\n",
        "p_tags = soup.findAll('p', text=True)\n",
        "for i, p_tag in enumerate(p_tags):\n",
        "    print(str(i) + str(p_tag))"
      ],
      "execution_count": null,
      "outputs": [
        {
          "output_type": "stream",
          "name": "stdout",
          "text": [
            "0<p>We’re sorry, this feature is currently unavailable. We’re working to restore it. Please try again later.</p>\n",
            "1<p>Add articles to your saved list and come back to them any time.</p>\n",
            "2<p>The University of Sydney will suspend all face-to-face teaching from Monday and move fully online while Macquarie University has cancelled classes altogether in order to make the digital transition, revealing one of its students tested positive for COVID-19.</p>\n",
            "3<p>The University of Sydney's 10,000 staff members have been encouraged to work remotely to slow the spread of coronavirus, but the campus Wi-Fi network and facilities will remain open with enhanced cleaning protocols and social distancing measures.</p>\n",
            "4<p>Courses with labs and practical components will be adapted for online or suspended until later in the semester while clinical placements for health students will go ahead under strict guidelines, Vice-Chancellor Michael Spence wrote to staff on Tuesday afternoon.</p>\n",
            "5<p>\"We’ve put a lot of effort and thought into how to do it. I think this is a tremendous opportunity. This could be an interesting pedagogical experiment,\" he said.</p>\n",
            "6<p>\"At the moment we have to spend money to put education online to make sure our students' experience is uninterrupted as possible. There has been an overwhelming response from students that [is what they want].\"</p>\n",
            "7<p>Universities Australia deputy chief executive officer Anne-Marie Lansdown said 39 universities were providing online learning where possible amid the coronavirus pandemic. She said the challenge was increasing the amount of content that can be put online in a very short period of time.</p>\n",
            "8<p>\"For some courses it will be much harder – especially those with significant practical or technical requirements,\" Ms Lansdown said. \"In the case of practical-based learning, where online may not be possible, universities are offering maximum flexibility, including delaying or deferring those components.\"</p>\n",
            "9<p>Macquarie Vice-Chancellor Professor Bruce Dowton said in an email to staff on Tuesday morning that face-to-face and online teaching will be suspended for 12 days from Wednesday while the university transitions to online delivery of lectures and seminars.</p>\n",
            "10<p>\"It will also allow us to redesign campus-based delivery of our units to modes that support social distancing and remote support,\" he said.</p>\n",
            "11<p>Hours later, Macquarie confirmed a student had tested positive for COVID-19 the day before, and that several locations on campus had been cleaned overnight.</p>\n",
            "12<p>\"The current advice is that the rest of campus can continue to operate as normal after the completion of intensive cleaning operations and in line with ... moving to increase online delivery of educational programs,\" a spokesperson said.</p>\n",
            "13<p>But students were concerned they had not been told where the infected student had been on campus and whether some needed to self-isolate.</p>\n",
            "14<p>\"Many of the students are shocked that we could be left in the dark and that the university has not been able to make decisions for weeks about how to handle the virus situation,\" one student, who requested anonymity, said.</p>\n",
            "15<p>The University of NSW on Tuesday confirmed a third student tested positive for COVID-19 and had exhibited mild symptoms while in a three-hour evening science class last week.</p>\n",
            "16<p>Universities around the country are also seeking advice from public health experts on how to minimise the spread of COVID-19 among students living in campus accommodation and other share housing.</p>\n",
            "17<p>The Australian National University said many students congregated in residential halls \"so across our student residences we’re implementing considered social distancing measures for our dining halls, kitchens and self-catering\".</p>\n",
            "18<p>\"We’ve also reformatted social and academic support events and activities so that they have smaller numbers (25 people or less) and in some cases, these will be offered as online connections – we’re being creative to ensure pastoral care and community wellbeing are maintained,\" a spokesperson said.</p>\n",
            "19<p>Dining times have also been extended to allow students to stagger their meals and restrict access to communal utensils.</p>\n",
            "20<p>The University of NSW has asked students who need to self-isolate to avoid communal areas and avoid sharing utensils and tea towels. They have been advised to use separate bathroom and kitchen facilities and to regularly clean shared facilities. They should also wear a surgical mask while in the same room with any other people.</p>\n"
          ]
        },
        {
          "output_type": "stream",
          "name": "stderr",
          "text": [
            "<ipython-input-2-e70f1aa82008>:3: DeprecationWarning: The 'text' argument to find()-type methods is deprecated. Use 'string' instead.\n",
            "  p_tags = soup.findAll('p', text=True)\n"
          ]
        }
      ]
    },
    {
      "cell_type": "markdown",
      "metadata": {
        "id": "BYnmY30W4kXq"
      },
      "source": [
        "## Punctuation removal"
      ]
    },
    {
      "cell_type": "markdown",
      "metadata": {
        "id": "WUSe0XB142YM"
      },
      "source": [
        "First, let's try to remove punctuation by using an exhaustive list of symbols!"
      ]
    },
    {
      "cell_type": "code",
      "metadata": {
        "id": "zPPA04m5CTS5",
        "colab": {
          "base_uri": "https://localhost:8080/"
        },
        "outputId": "4cdbd772-fd6c-4572-ea58-65ae0f66b786"
      },
      "source": [
        "puncts = [',', '.', '\"', ':', ')', '(', '-', '!', '?', '|', ';', \"'\", '$', '&', '/', '[', ']', '>', '%', '=', '#', '*', '+', '\\\\', '•',  '~', '@', '£',\n",
        " '·', '_', '{', '}', '©', '^', '®', '`',  '<', '→', '°', '€', '™', '›',  '♥', '←', '×', '§', '″', '′', 'Â', '█', '½', 'à', '…',\n",
        " '“', '★', '”', '–', '●', 'â', '►', '−', '¢', '²', '¬', '░', '¶', '↑', '±', '¿', '▾', '═', '¦', '║', '―', '¥', '▓', '—', '‹', '─',\n",
        " '▒', '：', '¼', '⊕', '▼', '▪', '†', '■', '’', '▀', '¨', '▄', '♫', '☆', 'é', '¯', '♦', '¤', '▲', 'è', '¸', '¾', 'Ã', '⋅', '‘', '∞',\n",
        " '∙', '）', '↓', '、', '│', '（', '»', '，', '♪', '╩', '╚', '³', '・', '╦', '╣', '╔', '╗', '▬', '❤', 'ï', 'Ø', '¹', '≤', '‡', '√', ]\n",
        "\n",
        "def remove_punctuation(x):\n",
        "    x = str(x)\n",
        "    for punct in puncts:\n",
        "        if punct in x:\n",
        "            x = x.replace(punct, '')\n",
        "    return x\n",
        "\n",
        "\n",
        "text = \"It's a nice day[]\"\n",
        "print(remove_punctuation(text))\n"
      ],
      "execution_count": null,
      "outputs": [
        {
          "output_type": "stream",
          "name": "stdout",
          "text": [
            "Its a nice day\n"
          ]
        }
      ]
    },
    {
      "cell_type": "markdown",
      "metadata": {
        "id": "yBYYb37K46gV"
      },
      "source": [
        "Alternatively, what about using regular expressions ([re package](https://docs.python.org/3/library/re.html))?"
      ]
    },
    {
      "cell_type": "code",
      "metadata": {
        "id": "SicWED4146pe",
        "colab": {
          "base_uri": "https://localhost:8080/"
        },
        "outputId": "346a4bf1-b9ed-4708-f0d4-88118979f9a1"
      },
      "source": [
        "import re\n",
        "\n",
        "def remove_punctuation_re(x):\n",
        "    x = re.sub(r'[^\\w\\s]','',x)\n",
        "\n",
        "    return x\n",
        "\n",
        "\n",
        "text = \"It's a nice day[]\"\n",
        "\n",
        "print(remove_punctuation_re(text))"
      ],
      "execution_count": null,
      "outputs": [
        {
          "output_type": "stream",
          "name": "stdout",
          "text": [
            "Its a nice day\n"
          ]
        }
      ]
    },
    {
      "cell_type": "markdown",
      "metadata": {
        "id": "1D4zy-EAFC2B"
      },
      "source": [
        "OK. Then what about emoticons?      **:)** or **:D** or **:(**  \n",
        "\n",
        "Some tasks may want you to keep emoticons e.g. sentiment analysis on tweets.\n"
      ]
    },
    {
      "cell_type": "code",
      "metadata": {
        "id": "lhSuQUQn7HHy"
      },
      "source": [
        "#you can find the solution from the TweetTokenizer https://www.nltk.org/_modules/nltk/tokenize/casual.html#TweetTokenizer (search \"EMOTICONS\" in the page)\n",
        "EMOTICONS = r\"\"\"\n",
        "    (?:\n",
        "      [<>]?\n",
        "      [:;=8]                     # eyes\n",
        "      [\\-o\\*\\']?                 # optional nose\n",
        "      [\\)\\]\\(\\[dDpP/\\:\\}\\{@\\|\\\\] # mouth\n",
        "      |\n",
        "      [\\)\\]\\(\\[dDpP/\\:\\}\\{@\\|\\\\] # mouth\n",
        "      [\\-o\\*\\']?                 # optional nose\n",
        "      [:;=8]                     # eyes\n",
        "      [<>]?\n",
        "      |\n",
        "      <3                         # heart\n",
        "    )\"\"\""
      ],
      "execution_count": null,
      "outputs": []
    },
    {
      "cell_type": "markdown",
      "metadata": {
        "id": "qbr_yUC07HRT"
      },
      "source": [
        "Have a look at some contractions of words! Contractions include punctuation - how would you handle them?\n"
      ]
    },
    {
      "cell_type": "code",
      "metadata": {
        "id": "GM6nYOK__dYw"
      },
      "source": [
        "# These are just common English contractions. There are many edge cases. i.e. University's working on it.\n",
        "contraction_dict = {\"ain't\": \"is not\", \"aren't\": \"are not\",\"can't\": \"cannot\", \"'cause\": \"because\", \"could've\": \"could have\",\n",
        "                    \"couldn't\": \"could not\", \"didn't\": \"did not\",  \"doesn't\": \"does not\", \"don't\": \"do not\", \"hadn't\": \"had not\",\n",
        "                    \"hasn't\": \"has not\", \"haven't\": \"have not\", \"he'd\": \"he would\",\"he'll\": \"he will\", \"he's\": \"he is\", \"how'd\": \"how did\",\n",
        "                    \"how'd'y\": \"how do you\", \"how'll\": \"how will\", \"how's\": \"how is\",  \"I'd\": \"I would\", \"I'd've\": \"I would have\",\n",
        "                    \"I'll\": \"I will\", \"I'll've\": \"I will have\",\"I'm\": \"I am\", \"I've\": \"I have\", \"i'd\": \"i would\", \"i'd've\": \"i would have\",\n",
        "                    \"i'll\": \"i will\",  \"i'll've\": \"i will have\",\"i'm\": \"i am\", \"i've\": \"i have\", \"isn't\": \"is not\", \"it'd\": \"it would\",\n",
        "                    \"it'd've\": \"it would have\", \"it'll\": \"it will\", \"it'll've\": \"it will have\",\"it's\": \"it is\", \"let's\": \"let us\",\n",
        "                    \"ma'am\": \"madam\", \"mayn't\": \"may not\", \"might've\": \"might have\",\"mightn't\": \"might not\",\"mightn't've\": \"might not have\",\n",
        "                    \"must've\": \"must have\", \"mustn't\": \"must not\", \"mustn't've\": \"must not have\", \"needn't\": \"need not\", \"needn't've\": \"need not have\",\n",
        "                    \"o'clock\": \"of the clock\", \"oughtn't\": \"ought not\", \"oughtn't've\": \"ought not have\", \"shan't\": \"shall not\", \"sha'n't\": \"shall not\",\n",
        "                    \"shan't've\": \"shall not have\", \"she'd\": \"she would\", \"she'd've\": \"she would have\", \"she'll\": \"she will\", \"she'll've\": \"she will have\",\n",
        "                    \"she's\": \"she is\", \"should've\": \"should have\", \"shouldn't\": \"should not\", \"shouldn't've\": \"should not have\", \"so've\": \"so have\",\n",
        "                    \"so's\": \"so as\", \"this's\": \"this is\",\"that'd\": \"that would\", \"that'd've\": \"that would have\", \"that's\": \"that is\", \"there'd\": \"there would\",\n",
        "                    \"there'd've\": \"there would have\", \"there's\": \"there is\", \"here's\": \"here is\",\"they'd\": \"they would\", \"they'd've\": \"they would have\",\n",
        "                    \"they'll\": \"they will\", \"they'll've\": \"they will have\", \"they're\": \"they are\", \"they've\": \"they have\", \"to've\": \"to have\", \"wasn't\": \"was not\",\n",
        "                    \"we'd\": \"we would\", \"we'd've\": \"we would have\", \"we'll\": \"we will\", \"we'll've\": \"we will have\", \"we're\": \"we are\", \"we've\": \"we have\",\n",
        "                    \"weren't\": \"were not\", \"what'll\": \"what will\", \"what'll've\": \"what will have\", \"what're\": \"what are\",  \"what's\": \"what is\", \"what've\": \"what have\",\n",
        "                    \"when's\": \"when is\", \"when've\": \"when have\", \"where'd\": \"where did\", \"where's\": \"where is\", \"where've\": \"where have\", \"who'll\": \"who will\",\n",
        "                    \"who'll've\": \"who will have\", \"who's\": \"who is\", \"who've\": \"who have\", \"why's\": \"why is\", \"why've\": \"why have\", \"will've\": \"will have\",\n",
        "                    \"won't\": \"will not\", \"won't've\": \"will not have\", \"would've\": \"would have\", \"wouldn't\": \"would not\", \"wouldn't've\": \"would not have\",\n",
        "                    \"y'all\": \"you all\", \"y'all'd\": \"you all would\",\"y'all'd've\": \"you all would have\",\"y'all're\": \"you all are\",\"y'all've\": \"you all have\",\n",
        "                    \"you'd\": \"you would\", \"you'd've\": \"you would have\", \"you'll\": \"you will\", \"you'll've\": \"you will have\", \"you're\": \"you are\", \"you've\": \"you have\"}"
      ],
      "execution_count": null,
      "outputs": []
    },
    {
      "cell_type": "markdown",
      "metadata": {
        "id": "fW0bu-886Tp0"
      },
      "source": [
        "## Stopwords removal\n",
        "Stopwords are the most common words in any natural language. They tend to perform a structural role rather than semantic. So for the purpose of analysing text data and building NLP models, these stopwords might not add much value to the meaning of the document. Generally, the most common words used in a text are “the”, “is”, “in”, “for”, “where”, “when”, “to”, “at” etc.\n",
        "\n"
      ]
    },
    {
      "cell_type": "code",
      "metadata": {
        "id": "vh1rYL3NIavi",
        "colab": {
          "base_uri": "https://localhost:8080/"
        },
        "outputId": "d6e2ec5f-fcf4-44b3-cd78-a3855e3683ea"
      },
      "source": [
        "# You must be familiar with the following already since we've tried this in Lab 1\n",
        "import nltk\n",
        "nltk.download('punkt')\n",
        "nltk.download('stopwords')\n",
        "\n",
        "from nltk.corpus import stopwords as sw\n",
        "from nltk.tokenize import word_tokenize\n",
        "\n",
        "my_sent = \"Natural Language Processing is fun but challenging.\"\n",
        "tokens = word_tokenize(my_sent)\n",
        "\n",
        "stop_words = sw.words()\n",
        "filtered_sentence = [w for w in tokens if not w in stop_words]\n",
        "\n",
        "print(filtered_sentence)"
      ],
      "execution_count": null,
      "outputs": [
        {
          "output_type": "stream",
          "name": "stderr",
          "text": [
            "[nltk_data] Downloading package punkt to /root/nltk_data...\n",
            "[nltk_data]   Unzipping tokenizers/punkt.zip.\n"
          ]
        },
        {
          "output_type": "stream",
          "name": "stdout",
          "text": [
            "['Natural', 'Language', 'Processing', 'fun', 'challenging', '.']\n"
          ]
        },
        {
          "output_type": "stream",
          "name": "stderr",
          "text": [
            "[nltk_data] Downloading package stopwords to /root/nltk_data...\n",
            "[nltk_data]   Unzipping corpora/stopwords.zip.\n"
          ]
        }
      ]
    },
    {
      "cell_type": "markdown",
      "metadata": {
        "id": "eap6jyY26ovD"
      },
      "source": [
        "## Case-folding\n",
        "How would you handle case? A common strategy is to do case-folding by reducing all letters to lower case"
      ]
    },
    {
      "cell_type": "code",
      "metadata": {
        "id": "yiLKuaoEIbnq",
        "colab": {
          "base_uri": "https://localhost:8080/"
        },
        "outputId": "5d041f30-d6be-49b8-a75f-5cc0380dacd1"
      },
      "source": [
        "text = \"Hello there!\"\n",
        "#Returns the result of converting all characters in text to lowercase.\n",
        "print(text.lower())\n",
        "\n",
        "\n",
        "#do we need to reduce all letters to lower case?\n",
        "text2 = \"I love University of Western Australia :D\"\n",
        "print(text2.lower())"
      ],
      "execution_count": null,
      "outputs": [
        {
          "output_type": "stream",
          "name": "stdout",
          "text": [
            "hello there!\n",
            "i love university of western australia :d\n"
          ]
        }
      ]
    },
    {
      "cell_type": "markdown",
      "metadata": {
        "id": "L9e4G_t5gCYG"
      },
      "source": [
        "## Stemming\n",
        "Stemming is a process of removing and replacing word suffixes to arrive at a common root form of the word.\n",
        "\n",
        "*   Try various types of NLTK stemmer in [demo](http://text-processing.com/demo/stem/)\n",
        "*   A comparative study of stemming algorithms: [Paper Link](https://pdfs.semanticscholar.org/1c0c/0fa35d4ff8a2f925eb955e48d655494bd167.pdf)\n"
      ]
    },
    {
      "cell_type": "code",
      "metadata": {
        "id": "5FhadZUH607p",
        "colab": {
          "base_uri": "https://localhost:8080/"
        },
        "outputId": "d4ac7293-fe2f-4a7f-9810-1a678b054141"
      },
      "source": [
        "#let's try to test with porter algorithm\n",
        "from nltk.stem.porter import *\n",
        "stemmer = PorterStemmer()\n",
        "\n",
        "plurals = ['caresses', 'flies', 'dies', 'mules', 'denied',\n",
        "            'died', 'agreed', 'owned', 'humbled', 'sized',\n",
        "            'meeting', 'stating', 'siezing', 'itemization',\n",
        "            'sensational', 'traditional', 'reference', 'colonizer',\n",
        "            'plotted']\n",
        "singles = [stemmer.stem(plural) for plural in plurals]\n",
        "\n",
        "print(singles)"
      ],
      "execution_count": null,
      "outputs": [
        {
          "output_type": "stream",
          "name": "stdout",
          "text": [
            "['caress', 'fli', 'die', 'mule', 'deni', 'die', 'agre', 'own', 'humbl', 'size', 'meet', 'state', 'siez', 'item', 'sensat', 'tradit', 'refer', 'colon', 'plot']\n"
          ]
        }
      ]
    },
    {
      "cell_type": "markdown",
      "metadata": {
        "id": "t5Tm9Zj4K8nj"
      },
      "source": [
        "## Lemmatisation\n",
        "\n",
        "Lemmatisation is the process of grouping together the inflected forms of a word so they can be analysed as a single item, identified by the word's lemma, or dictionary form\n"
      ]
    },
    {
      "cell_type": "code",
      "metadata": {
        "id": "q0oIgt5NK8te",
        "colab": {
          "base_uri": "https://localhost:8080/"
        },
        "outputId": "516f1f39-b46a-4f55-9a91-2df2ce24c043"
      },
      "source": [
        "#by NLTK Wordnet\n",
        "nltk.download('wordnet')\n",
        "\n",
        "from nltk.stem import WordNetLemmatizer\n",
        "\n",
        "lemmatizer = WordNetLemmatizer()\n",
        "\n",
        "print(lemmatizer.lemmatize(\"cats\"))\n",
        "print(lemmatizer.lemmatize(\"cacti\"))\n",
        "print(lemmatizer.lemmatize(\"geese\"))\n",
        "print(lemmatizer.lemmatize(\"rocks\"))\n",
        "print(lemmatizer.lemmatize(\"python\"))\n",
        "print(lemmatizer.lemmatize(\"better\", pos=\"a\"))\n",
        "print(lemmatizer.lemmatize(\"best\", pos=\"a\"))\n",
        "print(lemmatizer.lemmatize(\"run\"))\n",
        "print(lemmatizer.lemmatize(\"run\",'v'))"
      ],
      "execution_count": null,
      "outputs": [
        {
          "output_type": "stream",
          "name": "stderr",
          "text": [
            "[nltk_data] Downloading package wordnet to /root/nltk_data...\n"
          ]
        },
        {
          "output_type": "stream",
          "name": "stdout",
          "text": [
            "cat\n",
            "cactus\n",
            "goose\n",
            "rock\n",
            "python\n",
            "good\n",
            "best\n",
            "run\n",
            "run\n"
          ]
        }
      ]
    },
    {
      "cell_type": "markdown",
      "metadata": {
        "id": "gZQBz4bS63_S"
      },
      "source": [
        "## Tokenisation\n",
        "\n",
        "Given a character sequence and a defined document unit (word, sentence etc.), tokenisation is the task of chopping it up into pieces, called tokens, perhaps at the same time throwing away certain characters, such as punctuation\n",
        "\n",
        "Try various types of NLTK Tokenizer in [demo](http://text-processing.com/demo/tokenize/).\n",
        "\n",
        "[NLTK Tokeniser API Doc](https://www.nltk.org/api/nltk.tokenize.html)"
      ]
    },
    {
      "cell_type": "markdown",
      "metadata": {
        "id": "Jj6FSwVH9pig"
      },
      "source": [
        "**TweetTokenizer: Twitter-aware tokeniser**"
      ]
    },
    {
      "cell_type": "code",
      "metadata": {
        "id": "PLiWA6VAGfyr",
        "colab": {
          "base_uri": "https://localhost:8080/"
        },
        "outputId": "caacd608-ae0f-4c69-a7e2-48e3da49cc42"
      },
      "source": [
        "from nltk.tokenize import TweetTokenizer\n",
        "tknzr = TweetTokenizer()\n",
        "\n",
        "s0 = \"I am so happy :) ;)\"\n",
        "\n",
        "print(tknzr.tokenize(s0))\n",
        "\n",
        "s0 = \"I am so sad :(\"\n",
        "\n",
        "print(tknzr.tokenize(s0))"
      ],
      "execution_count": null,
      "outputs": [
        {
          "output_type": "stream",
          "name": "stdout",
          "text": [
            "['I', 'am', 'so', 'happy', ':)', ';)']\n",
            "['I', 'am', 'so', 'sad', ':(']\n"
          ]
        }
      ]
    },
    {
      "cell_type": "markdown",
      "metadata": {
        "id": "Q2aUurLvKn90"
      },
      "source": [
        "**TreebankWordTokenizer**\n",
        "\n",
        "The Treebank tokenizer uses regular expressions to tokenize text as in Penn Treebank."
      ]
    },
    {
      "cell_type": "code",
      "metadata": {
        "id": "z79eqDUw9po5",
        "colab": {
          "base_uri": "https://localhost:8080/"
        },
        "outputId": "b9721277-f98d-4621-c425-94f06ff6393f"
      },
      "source": [
        "from nltk.tokenize import TreebankWordTokenizer\n",
        "tknzr = TreebankWordTokenizer()\n",
        "\n",
        "s0 = \"I am so happy :) ;)\"\n",
        "\n",
        "print(tknzr.tokenize(s0))\n",
        "\n",
        "s0 = \"I am so sad :(\"\n",
        "\n",
        "print(tknzr.tokenize(s0))"
      ],
      "execution_count": null,
      "outputs": [
        {
          "output_type": "stream",
          "name": "stdout",
          "text": [
            "['I', 'am', 'so', 'happy', ':', ')', ';', ')']\n",
            "['I', 'am', 'so', 'sad', ':', '(']\n"
          ]
        }
      ]
    },
    {
      "cell_type": "markdown",
      "metadata": {
        "id": "Ko6A3-sP67AA"
      },
      "source": [
        "# Word Cloud\n",
        "*   [Word Cloud](https://amueller.github.io/word_cloud/index.html)\n",
        "*   [Wikipedia Python](https://pypi.org/project/wikipedia/)\n"
      ]
    },
    {
      "cell_type": "code",
      "metadata": {
        "id": "8RL-2Nl6M8bS",
        "colab": {
          "base_uri": "https://localhost:8080/"
        },
        "outputId": "4f2615ed-a1fb-43ac-c832-54cecc0e89b1"
      },
      "source": [
        "!pip install wikipedia"
      ],
      "execution_count": null,
      "outputs": [
        {
          "output_type": "stream",
          "name": "stdout",
          "text": [
            "Collecting wikipedia\n",
            "  Downloading wikipedia-1.4.0.tar.gz (27 kB)\n",
            "  Preparing metadata (setup.py) ... \u001b[?25l\u001b[?25hdone\n",
            "Requirement already satisfied: beautifulsoup4 in /usr/local/lib/python3.10/dist-packages (from wikipedia) (4.12.3)\n",
            "Requirement already satisfied: requests<3.0.0,>=2.0.0 in /usr/local/lib/python3.10/dist-packages (from wikipedia) (2.31.0)\n",
            "Requirement already satisfied: charset-normalizer<4,>=2 in /usr/local/lib/python3.10/dist-packages (from requests<3.0.0,>=2.0.0->wikipedia) (3.3.2)\n",
            "Requirement already satisfied: idna<4,>=2.5 in /usr/local/lib/python3.10/dist-packages (from requests<3.0.0,>=2.0.0->wikipedia) (3.7)\n",
            "Requirement already satisfied: urllib3<3,>=1.21.1 in /usr/local/lib/python3.10/dist-packages (from requests<3.0.0,>=2.0.0->wikipedia) (2.0.7)\n",
            "Requirement already satisfied: certifi>=2017.4.17 in /usr/local/lib/python3.10/dist-packages (from requests<3.0.0,>=2.0.0->wikipedia) (2024.2.2)\n",
            "Requirement already satisfied: soupsieve>1.2 in /usr/local/lib/python3.10/dist-packages (from beautifulsoup4->wikipedia) (2.5)\n",
            "Building wheels for collected packages: wikipedia\n",
            "  Building wheel for wikipedia (setup.py) ... \u001b[?25l\u001b[?25hdone\n",
            "  Created wheel for wikipedia: filename=wikipedia-1.4.0-py3-none-any.whl size=11680 sha256=8ac3be24a75b71d6e5a5bc16b925df7de1b270ba88be49ac473f75e82a13479b\n",
            "  Stored in directory: /root/.cache/pip/wheels/5e/b6/c5/93f3dec388ae76edc830cb42901bb0232504dfc0df02fc50de\n",
            "Successfully built wikipedia\n",
            "Installing collected packages: wikipedia\n",
            "Successfully installed wikipedia-1.4.0\n"
          ]
        }
      ]
    },
    {
      "cell_type": "code",
      "metadata": {
        "id": "ts5qkwsIgWs8",
        "colab": {
          "base_uri": "https://localhost:8080/",
          "height": 285
        },
        "outputId": "4b4fb873-36da-46af-ad74-80a040ceafcb"
      },
      "source": [
        "from wordcloud import WordCloud\n",
        "import wikipedia\n",
        "\n",
        "# Getting wikipedia contents of \"COVID-19_pandemic\"\n",
        "text = wikipedia.page(\"COVID-19_pandemic\").content\n",
        "\n",
        "# Generate a word cloud image\n",
        "wordcloud = WordCloud().generate(text)\n",
        "\n",
        "# Display the generated image:\n",
        "# the matplotlib way:\n",
        "import matplotlib.pyplot as plt\n",
        "\n",
        "plt.imshow(wordcloud, interpolation='bilinear')\n",
        "plt.axis(\"off\")\n",
        "plt.show()"
      ],
      "execution_count": null,
      "outputs": [
        {
          "output_type": "display_data",
          "data": {
            "text/plain": [
              "<Figure size 640x480 with 1 Axes>"
            ],
            "image/png": "[encoded data removed]"
          },
          "metadata": {}
        }
      ]
    },
    {
      "cell_type": "markdown",
      "metadata": {
        "id": "_ynb-BNSMJF3"
      },
      "source": [
        "Try more word cloud examples: [Link](https://amueller.github.io/word_cloud/auto_examples/index.html)"
      ]
    },
    {
      "cell_type": "markdown",
      "metadata": {
        "id": "Bgfxjm27_W58"
      },
      "source": [
        "# Saving and Loading Models"
      ]
    },
    {
      "cell_type": "markdown",
      "metadata": {
        "id": "z8L2SD6URVmz"
      },
      "source": [
        "Training a model takes time. Once it is trained it is useful to save it. Then when you, or someone else, wants to use it you can just reload it.\n",
        "\n",
        "**Saving a Pytorch model**"
      ]
    },
    {
      "cell_type": "code",
      "metadata": {
        "id": "5CIo7H32xssE",
        "colab": {
          "base_uri": "https://localhost:8080/"
        },
        "outputId": "971e7f84-9037-470e-b22a-2b5fff9d789f"
      },
      "source": [
        "# Let's train a model first\n",
        "import torch\n",
        "import torch.nn.functional as F\n",
        "import torch.nn as nn\n",
        "import torch.optim as optim\n",
        "import numpy as np\n",
        "import matplotlib.pyplot as plt\n",
        "\n",
        "class TheModelClass(nn.Module):\n",
        "    def __init__(self):\n",
        "        super(TheModelClass, self).__init__()\n",
        "        self.linear = nn.Linear(1, 1)\n",
        "\n",
        "    def forward(self, input):\n",
        "        output = self.linear(input)\n",
        "        return output\n",
        "\n",
        "no_of_epochs = 500\n",
        "display_interval = 20\n",
        "learning_rate=0.01\n",
        "\n",
        "# training data\n",
        "x_training = np.asarray([[1],[2],[5],[8],[9],[12],[14],[16],[18],[20]])\n",
        "y_training = np.asarray([100,200,501,780,901,1201,1399,1598,1800,2000])\n",
        "\n",
        "x_data_torch = torch.from_numpy(x_training).float()\n",
        "y_data_torch = torch.from_numpy(y_training).float()\n",
        "\n",
        "model = TheModelClass()\n",
        "optimizer = optim.SGD(model.parameters(), lr=learning_rate)\n",
        "\n",
        "for epoch in range(no_of_epochs):\n",
        "\n",
        "    # zero the parameter gradients\n",
        "    optimizer.zero_grad()\n",
        "\n",
        "    # forward + backward + optimize\n",
        "    outputs = model(x_data_torch)\n",
        "    # reshape y_data_torch so that the column size is 1, -1 tells PyTorch to calculate the necessary number of rows to ensure the resulting shape\n",
        "    loss = torch.sum(torch.pow(outputs-y_data_torch.view(-1,1),2))/(2*x_training.shape[0])\n",
        "    loss.backward()\n",
        "    optimizer.step()\n",
        "\n",
        "    if epoch%display_interval == display_interval-1:\n",
        "        print('Epoch: %d, loss: %.3f' %(epoch + 1, loss.item() ))"
      ],
      "execution_count": null,
      "outputs": [
        {
          "output_type": "stream",
          "name": "stdout",
          "text": [
            "Epoch: 20, loss: 31.142\n",
            "Epoch: 40, loss: 29.865\n",
            "Epoch: 60, loss: 28.714\n",
            "Epoch: 80, loss: 27.678\n",
            "Epoch: 100, loss: 26.745\n",
            "Epoch: 120, loss: 25.905\n",
            "Epoch: 140, loss: 25.148\n",
            "Epoch: 160, loss: 24.466\n",
            "Epoch: 180, loss: 23.852\n",
            "Epoch: 200, loss: 23.299\n",
            "Epoch: 220, loss: 22.801\n",
            "Epoch: 240, loss: 22.352\n",
            "Epoch: 260, loss: 21.948\n",
            "Epoch: 280, loss: 21.584\n",
            "Epoch: 300, loss: 21.257\n",
            "Epoch: 320, loss: 20.961\n",
            "Epoch: 340, loss: 20.695\n",
            "Epoch: 360, loss: 20.456\n",
            "Epoch: 380, loss: 20.240\n",
            "Epoch: 400, loss: 20.046\n",
            "Epoch: 420, loss: 19.871\n",
            "Epoch: 440, loss: 19.714\n",
            "Epoch: 460, loss: 19.572\n",
            "Epoch: 480, loss: 19.444\n",
            "Epoch: 500, loss: 19.329\n"
          ]
        }
      ]
    },
    {
      "cell_type": "code",
      "metadata": {
        "id": "zxBZETGT3pHZ"
      },
      "source": [
        "# Now we save the trained model to the file named 'filename.pt', you can name it based upon your needs\n",
        "torch.save(model, 'filename.pt')"
      ],
      "execution_count": null,
      "outputs": []
    },
    {
      "cell_type": "markdown",
      "metadata": {
        "id": "ZHlFto63RYdM"
      },
      "source": [
        "**Loading model**"
      ]
    },
    {
      "cell_type": "markdown",
      "source": [
        "**IMPORTANT NOTE**: Before loading the saved PyTorch model by using *torch.load(model_file_name)*, you have to make sure you have already run the code for defining the model class (e.g. the *TheModelClass* in the above section for this sample code). You can try to restart the runtime and then directly load the model to see the error."
      ],
      "metadata": {
        "id": "tfn0hMaA-y7N"
      }
    },
    {
      "cell_type": "code",
      "metadata": {
        "id": "cxoYkzWp51Kr",
        "colab": {
          "base_uri": "https://localhost:8080/"
        },
        "outputId": "3647e75b-9cfa-415f-958f-2162f8da84a7"
      },
      "source": [
        "#  Load the saved model from the .pt file\n",
        "the_saved_model = torch.load('filename.pt')\n",
        "the_saved_model.eval()"
      ],
      "execution_count": null,
      "outputs": [
        {
          "output_type": "execute_result",
          "data": {
            "text/plain": [
              "TheModelClass(\n",
              "  (linear): Linear(in_features=1, out_features=1, bias=True)\n",
              ")"
            ]
          },
          "metadata": {},
          "execution_count": 11
        }
      ]
    },
    {
      "cell_type": "code",
      "metadata": {
        "id": "j13TVA787FYG",
        "colab": {
          "base_uri": "https://localhost:8080/"
        },
        "outputId": "41a72207-d41f-4d92-ea4c-d3476474322f"
      },
      "source": [
        "# Use the loaded model to do prediction\n",
        "prediction = the_saved_model(x_data_torch).detach().numpy()\n",
        "for i in range(len(y_training)):\n",
        "    print('X: %d, Y_true: %d, Y_predict: %.3f'%(x_training[i][0],y_training[i],prediction[i][0]))"
      ],
      "execution_count": null,
      "outputs": [
        {
          "output_type": "stream",
          "name": "stdout",
          "text": [
            "X: 1, Y_true: 100, Y_predict: 99.888\n",
            "X: 2, Y_true: 200, Y_predict: 199.767\n",
            "X: 5, Y_true: 501, Y_predict: 499.402\n",
            "X: 8, Y_true: 780, Y_predict: 799.038\n",
            "X: 9, Y_true: 901, Y_predict: 898.917\n",
            "X: 12, Y_true: 1201, Y_predict: 1198.552\n",
            "X: 14, Y_true: 1399, Y_predict: 1398.310\n",
            "X: 16, Y_true: 1598, Y_predict: 1598.067\n",
            "X: 18, Y_true: 1800, Y_predict: 1797.824\n",
            "X: 20, Y_true: 2000, Y_predict: 1997.581\n"
          ]
        }
      ]
    },
    {
      "cell_type": "markdown",
      "metadata": {
        "id": "t6iDS4iMSj_L"
      },
      "source": [
        "**How to Save (Upload) the model to your Google Drive**\n",
        "\n",
        "As we know, once the session disconnects in Colab, all the files will be lost. Don't worry, we can save our model file to Google Drive so that we can download and and use it across sessions.\n",
        "\n",
        "There are various ways to upload the files on Google Drive.\n",
        "\n",
        "[This tutorial](https://colab.research.google.com/notebooks/io.ipynb#scrollTo=RWSJpsyKqHjH) will guide you how to save the files on your Google Drive.\n",
        "\n",
        "1.   Mounting Google Drive locally\n",
        "2.   Create a new Drive file\n",
        "\n",
        "And we've already experienced multiple times for downloading the files from Google Drive (Refer to the Download Dataset section in this Lab5)."
      ]
    },
    {
      "cell_type": "markdown",
      "source": [
        "#Build a simple user interface"
      ],
      "metadata": {
        "id": "qiyqXPZ8XZ3y"
      }
    },
    {
      "cell_type": "markdown",
      "source": [
        "When we have a well trained model ready to be used by others, it would be wonderful to have a friendly user interface instead of aking users to enter the input in the code fields. In colab, we can simply build up a user interface via the build-in ***Form Fields*** (Actually, we've already experienced the text fields in Lab1 E1 and different types of fieds in Lab2)"
      ],
      "metadata": {
        "id": "GE9x83zPXh8S"
      }
    },
    {
      "cell_type": "markdown",
      "source": [
        "In this section, we will focus on practising how to build a simple user friendly interface for retrieving the most similar word for the query word from a trained Word2Vec model. Let's just use the Gensim Word2Vec CBOW model from Lab2."
      ],
      "metadata": {
        "id": "oPGqepDKxIe8"
      }
    },
    {
      "cell_type": "markdown",
      "source": [
        "## Train word embeddings via Gensim Word2Vec model"
      ],
      "metadata": {
        "id": "ftOOq56txdue"
      }
    },
    {
      "cell_type": "markdown",
      "source": [
        "Download the corpus - TED scripts. NOTE: If you prefer to download the following file directly, you can access via this [link](https://drive.google.com/file/d/1B47OiEiG2Lo1jUY6hy_zMmHBxfKQuJ8-/view?usp=share_link)."
      ],
      "metadata": {
        "id": "dxsj_ZtHBM1a"
      }
    },
    {
      "cell_type": "code",
      "source": [
        "\n",
        "!pip install -U -q PyDrive\n",
        "from pydrive.auth import GoogleAuth\n",
        "from pydrive.drive import GoogleDrive\n",
        "from google.colab import auth\n",
        "from oauth2client.client import GoogleCredentials\n",
        "# Authenticate and create the PyDrive client.\n",
        "auth.authenticate_user()\n",
        "gauth = GoogleAuth()\n",
        "gauth.credentials = GoogleCredentials.get_application_default()\n",
        "drive = GoogleDrive(gauth)\n",
        "\n",
        "id = '1B47OiEiG2Lo1jUY6hy_zMmHBxfKQuJ8-'\n",
        "downloaded = drive.CreateFile({'id':id})\n",
        "downloaded.GetContentFile('ted_en-20160408.xml')"
      ],
      "metadata": {
        "id": "Fb20Ke66xmnG",
        "colab": {
          "base_uri": "https://localhost:8080/"
        },
        "outputId": "e9b041ba-d324-4d35-85c7-326a57e03e55"
      },
      "execution_count": null,
      "outputs": [
        {
          "output_type": "stream",
          "name": "stderr",
          "text": [
            "WARNING:root:pydrive is deprecated and no longer maintained. We recommend that you migrate your projects to pydrive2, the maintained fork of pydrive\n"
          ]
        }
      ]
    },
    {
      "cell_type": "code",
      "source": [
        "## Process and prepare the data for word2vec model training\n",
        "\n",
        "import re\n",
        "from lxml import etree\n",
        "import nltk\n",
        "nltk.download('punkt')\n",
        "from nltk.tokenize import word_tokenize, sent_tokenize\n",
        "from gensim.models import Word2Vec\n",
        "\n",
        "targetXML=open('ted_en-20160408.xml', 'r')\n",
        "\n",
        "# Getting contents of <content> tag from the xml file\n",
        "target_text = etree.parse(targetXML)\n",
        "\n",
        "# Tokenising the sentence to process it by using NLTK library\n",
        "sent_text=[]\n",
        "for parse_text in target_text.xpath('//content/text()'):\n",
        "  # Removing \"Sound-effect labels\" using regular expression (regex) (i.e. (Audio), (Laughter))\n",
        "  # re.sub(regex pattern, replacement, string)\n",
        "  content_text = re.sub(r'\\([^)]*\\)', '', parse_text)\n",
        "  sent_text.extend(sent_tokenize(content_text))\n",
        "\n",
        "# Removing punctuation and changing all characters to lower case\n",
        "normalized_text = []\n",
        "for string in sent_text:\n",
        "     tokens = re.sub(r\"[^a-z0-9]+\", \" \", string.lower())\n",
        "     normalized_text.append(tokens)\n",
        "\n",
        "# Tokenising each sentence to process individual word\n",
        "sentences=[]\n",
        "sentences=[word_tokenize(sentence) for sentence in normalized_text]\n",
        "\n",
        "# Prints only 10 (tokenised) sentences\n",
        "print(sentences[:10])"
      ],
      "metadata": {
        "colab": {
          "base_uri": "https://localhost:8080/"
        },
        "id": "ReWJ2WCZyvC-",
        "outputId": "dea975bf-fd18-4710-f4f3-e8b5f98cb3df"
      },
      "execution_count": null,
      "outputs": [
        {
          "output_type": "stream",
          "name": "stderr",
          "text": [
            "[nltk_data] Downloading package punkt to /root/nltk_data...\n",
            "[nltk_data]   Package punkt is already up-to-date!\n"
          ]
        },
        {
          "output_type": "stream",
          "name": "stdout",
          "text": [
            "[['here', 'are', 'two', 'reasons', 'companies', 'fail', 'they', 'only', 'do', 'more', 'of', 'the', 'same', 'or', 'they', 'only', 'do', 'what', 's', 'new'], ['to', 'me', 'the', 'real', 'real', 'solution', 'to', 'quality', 'growth', 'is', 'figuring', 'out', 'the', 'balance', 'between', 'two', 'activities', 'exploration', 'and', 'exploitation'], ['both', 'are', 'necessary', 'but', 'it', 'can', 'be', 'too', 'much', 'of', 'a', 'good', 'thing'], ['consider', 'facit'], ['i', 'm', 'actually', 'old', 'enough', 'to', 'remember', 'them'], ['facit', 'was', 'a', 'fantastic', 'company'], ['they', 'were', 'born', 'deep', 'in', 'the', 'swedish', 'forest', 'and', 'they', 'made', 'the', 'best', 'mechanical', 'calculators', 'in', 'the', 'world'], ['everybody', 'used', 'them'], ['and', 'what', 'did', 'facit', 'do', 'when', 'the', 'electronic', 'calculator', 'came', 'along'], ['they', 'continued', 'doing', 'exactly', 'the', 'same']]\n"
          ]
        }
      ]
    },
    {
      "cell_type": "code",
      "source": [
        "# Train the Word2Vec embedding model - CBOW\n",
        "\n",
        "wv_cbow_model = Word2Vec(sentences=sentences, vector_size=100, window=5, min_count=5, workers=4, sg=0)"
      ],
      "metadata": {
        "id": "t1C6DmiBzOsV"
      },
      "execution_count": null,
      "outputs": []
    },
    {
      "cell_type": "markdown",
      "source": [
        "## Simple user interface for the Gensim Word2Vec model"
      ],
      "metadata": {
        "id": "nr6FuT17sPtQ"
      }
    },
    {
      "cell_type": "code",
      "source": [
        "#@title Semantic Synonym Dictionary\n",
        "#@markdown Please input the word you want to find the synonym for in the following field:\n",
        "\n",
        "#@markdown ---\n",
        "Word = 'tequila'  #@param {type: \"string\"}\n",
        "\n",
        "#@markdown ---\n",
        "\n",
        "# Find the most similar word by using the word2vec gensim CBOW model we jsut trained above\n",
        "try:\n",
        "    similar_words=wv_cbow_model.wv.most_similar(Word)\n",
        "    print(\"The semantic synonym for \"+Word+\" is: \"+similar_words[0][0])\n",
        "except:\n",
        "    print(\"Unfortunately, the word you entered is not in our dictionary. Please try another one and good luck!\")"
      ],
      "metadata": {
        "colab": {
          "base_uri": "https://localhost:8080/"
        },
        "id": "vNK33AeFwDv7",
        "outputId": "df0d12b2-4ef7-4c8d-98ee-ba1439002585"
      },
      "execution_count": null,
      "outputs": [
        {
          "output_type": "stream",
          "name": "stdout",
          "text": [
            "Unfortunately, the word you entered is not in our dictionary. Please try another one and good luck!\n"
          ]
        }
      ]
    },
    {
      "cell_type": "markdown",
      "metadata": {
        "id": "sr2KEpT8EVnL"
      },
      "source": [
        "# Lab 5 Exercise\n",
        "Please complete the following **question E1 and E2** for Lab 5 and check with your Lab Facilitator in the lab.\n",
        "\n",
        "**Submission Due**: Your Lab 6 (in Week 7)\n",
        "\n",
        "**Submission Method**: Show your final code to your tutor during the Lab."
      ]
    },
    {
      "cell_type": "markdown",
      "metadata": {
        "id": "z9dPCF1BMNpv"
      },
      "source": [
        "## E1. Preprocessing Practice (1 mark)\n",
        "In this exercise, we will apply the series of preprocessing techniques learned above to a Large Movie Review Dataset named [IMDB](https://www.imdb.com/interfaces/), which contains the movie reviews for natural language processing or Text analytics.\n",
        "\n",
        "You are required to preprocess the train and test data. You need to complete the section we tagged as **'[complete this section][TO DO]'. PLEASE!!! PLEASE!!!! READ THE COMMENT IN EACH CODE BLOCK**\n",
        "\n",
        "\n",
        "\n",
        "\n",
        "\n"
      ]
    },
    {
      "cell_type": "code",
      "metadata": {
        "id": "jKxN3z5FPRcw"
      },
      "source": [
        "import torch\n",
        "# You can enable GPU here (cuda); or just CPU\n",
        "device = torch.device(\"cuda\" if torch.cuda.is_available() else \"cpu\")"
      ],
      "execution_count": null,
      "outputs": []
    },
    {
      "cell_type": "markdown",
      "metadata": {
        "id": "DC69XgVlLuPi"
      },
      "source": [
        "### Download Dataset"
      ]
    },
    {
      "cell_type": "markdown",
      "source": [
        "Download the corpus - IMDB data. NOTE: If you prefer to download the following file directly, you can access via this [link](https://drive.google.com/file/d/1vF3FqgBC1Y-RPefeVmY8zetdZG1jmHzT/view).\n",
        "\n"
      ],
      "metadata": {
        "id": "sr0pEi5fBJiT"
      }
    },
    {
      "cell_type": "code",
      "metadata": {
        "id": "zl7OaslvLuPo"
      },
      "source": [
        "# Code to download file into Colaboratory:\n",
        "!pip install -U -q PyDrive\n",
        "from pydrive.auth import GoogleAuth\n",
        "from pydrive.drive import GoogleDrive\n",
        "from google.colab import auth\n",
        "from oauth2client.client import GoogleCredentials\n",
        "# Authenticate and create the PyDrive client.\n",
        "auth.authenticate_user()\n",
        "gauth = GoogleAuth()\n",
        "gauth.credentials = GoogleCredentials.get_application_default()\n",
        "drive = GoogleDrive(gauth)\n",
        "\n",
        "id = '1vF3FqgBC1Y-RPefeVmY8zetdZG1jmHzT'\n",
        "\n",
        "downloaded = drive.CreateFile({'id':id})\n",
        "downloaded.GetContentFile('imdb.csv')\n",
        "\n",
        "import pandas as pd\n",
        "df = pd.read_csv(\"imdb.csv\")\n",
        "# The original IMDB data contains 25k review, here we only sample a subset of 4000 for simplicity\n",
        "df_pick = df.sample(4000,random_state=24)\n",
        "\n",
        "raw_text = df_pick[\"review\"].tolist()\n",
        "raw_label = df_pick[\"sentiment\"].tolist()\n",
        "\n",
        "from sklearn.model_selection import train_test_split\n",
        "#! Split arrays or matrices into random train and test subsets.\n",
        "text_train,text_test,label_train,label_test = train_test_split(raw_text,raw_label,test_size=0.25,random_state=42)"
      ],
      "execution_count": null,
      "outputs": []
    },
    {
      "cell_type": "markdown",
      "metadata": {
        "id": "i92SvLGOLuPv"
      },
      "source": [
        "### Preprocessing [Complete this section]"
      ]
    },
    {
      "cell_type": "markdown",
      "metadata": {
        "id": "Xfp_5N2fLuPw"
      },
      "source": [
        "####**Case Folding**"
      ]
    },
    {
      "cell_type": "code",
      "metadata": {
        "id": "l9LggrTtLuPx",
        "colab": {
          "base_uri": "https://localhost:8080/"
        },
        "outputId": "9ab1354b-812a-453b-f9b2-b0baa6e9bc46"
      },
      "source": [
        "# [TODO] converting all characters in text to lowercase\n",
        "\n",
        "text_train = [s.lower() for s in text_train]\n",
        "text_test = [s.lower() for s in text_test]\n",
        "print(text_train[0])"
      ],
      "execution_count": null,
      "outputs": [
        {
          "output_type": "stream",
          "name": "stdout",
          "text": [
            "jack london's life was certainly colorful enough for a dozen films about different aspects of him. sad to say though that what his life was used for in film was some wartime propaganda that put the best face on some of the least attractive parts of his character.<br /><br />jack london who barely saw the age of 40 when he died wrote some of the best stories around. he wrote on what he knew, but he also wrote as does everyone else bringing the baggage of his own life experience with him. some of that experience in another day and time would have been condemned as racism. but this was world war ii and london was a big believer in the 'yellow peril' as it was called back in the day.<br /><br />two thirds of the film covers his life as author, we see his years as a seaman from where he got the inspiration for the sea wolf. we see him up in the yukon in a miner's cabin with a dog that was no doubt his inspiration for the call of the wild. london was able to capture the spirit of adventure that his own life was all about right on paper for the world to enjoy ever since.<br /><br />the final third dealt with his time as a war correspondent covering the russo-japanese war. london was a socialist, but his socialism did not encompass folks who were oriental. like a few million others he saw the rising immigration of the chinese and japanese to our pacific coast as a threat to jobs for the white people. he advocated strict immigration policies for orientals.<br /><br />the film puts the cart before the horse. london is presented as a man who saw because he was on hand at the russo-japanese war what japan's ambitions were and for that reason was as xenophobic as he was. actually the kind of atrocities present in world war ii were not existent during the russo-japanese conflict. japan had her imperial ambitions, but so did everyone else including the usa at that time. but our immigration policies caused by pressure from our west coast politicians was a big contributing factor to the deterioration of relations with japan over a couple of generations. london was part of the cause not a prophet crying in the wilderness.<br /><br />this film was the first independent production of samuel bronston who later did some films with a bit more budget than jack london. had he a bit more money bronston might have gotten james cagney or spencer tracy, both who would have been right for the role. instead they got michael o'shea who was making his second film after lady of burlesque. o'shea is fine in the part, but certainly was no box office.<br /><br />as london is covering the war, he meets up with a captain tanaka who is played by leonard strong, an actor who specialized in orientals and played a ton of them in world war ii. from the vantage point in 1905 strong outlines in the best fu manchu tradition japan's imperial aims right up to taking on the usa eventually. must have gone over great with the swing shift crowd. <br /><br />a lot of course is left out of london's life including a first wife. playing the second and only wife in this film is susan hayward who only comes into the movie when it's half over. i wish we'd have seen more of her. charmian kittredge london survived her husband by almost 40 years dying in 1955.<br /><br />o'shea in fact met and married the leading lady of his life in jack london. virginia mayo has a small role in jack london and they married for 30 years until o'shea died in 1973.<br /><br />maybe one day we'll get a view of jack london that will be a lot better than this one.\n"
          ]
        }
      ]
    },
    {
      "cell_type": "markdown",
      "metadata": {
        "id": "hb4GVZYCLuP1"
      },
      "source": [
        "####**Remove punctuations [Please complete this section]**"
      ]
    },
    {
      "cell_type": "code",
      "metadata": {
        "id": "Vl4MgL1XLuP2",
        "colab": {
          "base_uri": "https://localhost:8080/"
        },
        "outputId": "55ab6076-9a29-404a-caa2-0d1c7e1b35a3"
      },
      "source": [
        "import re\n",
        "def remove_punctuation_re(x):\n",
        "    x = re.sub(r'[^\\w\\s]','',x)\n",
        "    return x\n",
        "\n",
        "text_train = [remove_punctuation_re(s) for s in text_train]\n",
        "text_test = [remove_punctuation_re(s) for s in text_test]\n",
        "print(text_train[0])"
      ],
      "execution_count": null,
      "outputs": [
        {
          "output_type": "stream",
          "name": "stdout",
          "text": [
            "jack londons life was certainly colorful enough for a dozen films about different aspects of him sad to say though that what his life was used for in film was some wartime propaganda that put the best face on some of the least attractive parts of his characterbr br jack london who barely saw the age of 40 when he died wrote some of the best stories around he wrote on what he knew but he also wrote as does everyone else bringing the baggage of his own life experience with him some of that experience in another day and time would have been condemned as racism but this was world war ii and london was a big believer in the yellow peril as it was called back in the daybr br two thirds of the film covers his life as author we see his years as a seaman from where he got the inspiration for the sea wolf we see him up in the yukon in a miners cabin with a dog that was no doubt his inspiration for the call of the wild london was able to capture the spirit of adventure that his own life was all about right on paper for the world to enjoy ever sincebr br the final third dealt with his time as a war correspondent covering the russojapanese war london was a socialist but his socialism did not encompass folks who were oriental like a few million others he saw the rising immigration of the chinese and japanese to our pacific coast as a threat to jobs for the white people he advocated strict immigration policies for orientalsbr br the film puts the cart before the horse london is presented as a man who saw because he was on hand at the russojapanese war what japans ambitions were and for that reason was as xenophobic as he was actually the kind of atrocities present in world war ii were not existent during the russojapanese conflict japan had her imperial ambitions but so did everyone else including the usa at that time but our immigration policies caused by pressure from our west coast politicians was a big contributing factor to the deterioration of relations with japan over a couple of generations london was part of the cause not a prophet crying in the wildernessbr br this film was the first independent production of samuel bronston who later did some films with a bit more budget than jack london had he a bit more money bronston might have gotten james cagney or spencer tracy both who would have been right for the role instead they got michael oshea who was making his second film after lady of burlesque oshea is fine in the part but certainly was no box officebr br as london is covering the war he meets up with a captain tanaka who is played by leonard strong an actor who specialized in orientals and played a ton of them in world war ii from the vantage point in 1905 strong outlines in the best fu manchu tradition japans imperial aims right up to taking on the usa eventually must have gone over great with the swing shift crowd br br a lot of course is left out of londons life including a first wife playing the second and only wife in this film is susan hayward who only comes into the movie when its half over i wish wed have seen more of her charmian kittredge london survived her husband by almost 40 years dying in 1955br br oshea in fact met and married the leading lady of his life in jack london virginia mayo has a small role in jack london and they married for 30 years until oshea died in 1973br br maybe one day well get a view of jack london that will be a lot better than this one\n"
          ]
        }
      ]
    },
    {
      "cell_type": "markdown",
      "metadata": {
        "id": "YvIc4FCRLuQC"
      },
      "source": [
        "####**Tokenization [Please complete this section]**"
      ]
    },
    {
      "cell_type": "code",
      "metadata": {
        "id": "V3I1iHIWLuQD",
        "colab": {
          "base_uri": "https://localhost:8080/"
        },
        "outputId": "1b3f997a-b2fe-4b65-90a4-4edbdd1c4c79"
      },
      "source": [
        "import nltk\n",
        "nltk.download('punkt')\n",
        "\n",
        "from nltk.tokenize import word_tokenize\n",
        "\n",
        "# [TODO] Please complete the following code\n",
        "#! text_train are now array of sets of tokens\n",
        "text_train = [word_tokenize(s) for s in text_train]\n",
        "text_test = [word_tokenize(s) for s in text_test]\n",
        "print(text_train[0])"
      ],
      "execution_count": null,
      "outputs": [
        {
          "output_type": "stream",
          "name": "stderr",
          "text": [
            "[nltk_data] Downloading package punkt to /root/nltk_data...\n",
            "[nltk_data]   Package punkt is already up-to-date!\n"
          ]
        },
        {
          "output_type": "stream",
          "name": "stdout",
          "text": [
            "['jack', 'londons', 'life', 'was', 'certainly', 'colorful', 'enough', 'for', 'a', 'dozen', 'films', 'about', 'different', 'aspects', 'of', 'him', 'sad', 'to', 'say', 'though', 'that', 'what', 'his', 'life', 'was', 'used', 'for', 'in', 'film', 'was', 'some', 'wartime', 'propaganda', 'that', 'put', 'the', 'best', 'face', 'on', 'some', 'of', 'the', 'least', 'attractive', 'parts', 'of', 'his', 'characterbr', 'br', 'jack', 'london', 'who', 'barely', 'saw', 'the', 'age', 'of', '40', 'when', 'he', 'died', 'wrote', 'some', 'of', 'the', 'best', 'stories', 'around', 'he', 'wrote', 'on', 'what', 'he', 'knew', 'but', 'he', 'also', 'wrote', 'as', 'does', 'everyone', 'else', 'bringing', 'the', 'baggage', 'of', 'his', 'own', 'life', 'experience', 'with', 'him', 'some', 'of', 'that', 'experience', 'in', 'another', 'day', 'and', 'time', 'would', 'have', 'been', 'condemned', 'as', 'racism', 'but', 'this', 'was', 'world', 'war', 'ii', 'and', 'london', 'was', 'a', 'big', 'believer', 'in', 'the', 'yellow', 'peril', 'as', 'it', 'was', 'called', 'back', 'in', 'the', 'daybr', 'br', 'two', 'thirds', 'of', 'the', 'film', 'covers', 'his', 'life', 'as', 'author', 'we', 'see', 'his', 'years', 'as', 'a', 'seaman', 'from', 'where', 'he', 'got', 'the', 'inspiration', 'for', 'the', 'sea', 'wolf', 'we', 'see', 'him', 'up', 'in', 'the', 'yukon', 'in', 'a', 'miners', 'cabin', 'with', 'a', 'dog', 'that', 'was', 'no', 'doubt', 'his', 'inspiration', 'for', 'the', 'call', 'of', 'the', 'wild', 'london', 'was', 'able', 'to', 'capture', 'the', 'spirit', 'of', 'adventure', 'that', 'his', 'own', 'life', 'was', 'all', 'about', 'right', 'on', 'paper', 'for', 'the', 'world', 'to', 'enjoy', 'ever', 'sincebr', 'br', 'the', 'final', 'third', 'dealt', 'with', 'his', 'time', 'as', 'a', 'war', 'correspondent', 'covering', 'the', 'russojapanese', 'war', 'london', 'was', 'a', 'socialist', 'but', 'his', 'socialism', 'did', 'not', 'encompass', 'folks', 'who', 'were', 'oriental', 'like', 'a', 'few', 'million', 'others', 'he', 'saw', 'the', 'rising', 'immigration', 'of', 'the', 'chinese', 'and', 'japanese', 'to', 'our', 'pacific', 'coast', 'as', 'a', 'threat', 'to', 'jobs', 'for', 'the', 'white', 'people', 'he', 'advocated', 'strict', 'immigration', 'policies', 'for', 'orientalsbr', 'br', 'the', 'film', 'puts', 'the', 'cart', 'before', 'the', 'horse', 'london', 'is', 'presented', 'as', 'a', 'man', 'who', 'saw', 'because', 'he', 'was', 'on', 'hand', 'at', 'the', 'russojapanese', 'war', 'what', 'japans', 'ambitions', 'were', 'and', 'for', 'that', 'reason', 'was', 'as', 'xenophobic', 'as', 'he', 'was', 'actually', 'the', 'kind', 'of', 'atrocities', 'present', 'in', 'world', 'war', 'ii', 'were', 'not', 'existent', 'during', 'the', 'russojapanese', 'conflict', 'japan', 'had', 'her', 'imperial', 'ambitions', 'but', 'so', 'did', 'everyone', 'else', 'including', 'the', 'usa', 'at', 'that', 'time', 'but', 'our', 'immigration', 'policies', 'caused', 'by', 'pressure', 'from', 'our', 'west', 'coast', 'politicians', 'was', 'a', 'big', 'contributing', 'factor', 'to', 'the', 'deterioration', 'of', 'relations', 'with', 'japan', 'over', 'a', 'couple', 'of', 'generations', 'london', 'was', 'part', 'of', 'the', 'cause', 'not', 'a', 'prophet', 'crying', 'in', 'the', 'wildernessbr', 'br', 'this', 'film', 'was', 'the', 'first', 'independent', 'production', 'of', 'samuel', 'bronston', 'who', 'later', 'did', 'some', 'films', 'with', 'a', 'bit', 'more', 'budget', 'than', 'jack', 'london', 'had', 'he', 'a', 'bit', 'more', 'money', 'bronston', 'might', 'have', 'gotten', 'james', 'cagney', 'or', 'spencer', 'tracy', 'both', 'who', 'would', 'have', 'been', 'right', 'for', 'the', 'role', 'instead', 'they', 'got', 'michael', 'oshea', 'who', 'was', 'making', 'his', 'second', 'film', 'after', 'lady', 'of', 'burlesque', 'oshea', 'is', 'fine', 'in', 'the', 'part', 'but', 'certainly', 'was', 'no', 'box', 'officebr', 'br', 'as', 'london', 'is', 'covering', 'the', 'war', 'he', 'meets', 'up', 'with', 'a', 'captain', 'tanaka', 'who', 'is', 'played', 'by', 'leonard', 'strong', 'an', 'actor', 'who', 'specialized', 'in', 'orientals', 'and', 'played', 'a', 'ton', 'of', 'them', 'in', 'world', 'war', 'ii', 'from', 'the', 'vantage', 'point', 'in', '1905', 'strong', 'outlines', 'in', 'the', 'best', 'fu', 'manchu', 'tradition', 'japans', 'imperial', 'aims', 'right', 'up', 'to', 'taking', 'on', 'the', 'usa', 'eventually', 'must', 'have', 'gone', 'over', 'great', 'with', 'the', 'swing', 'shift', 'crowd', 'br', 'br', 'a', 'lot', 'of', 'course', 'is', 'left', 'out', 'of', 'londons', 'life', 'including', 'a', 'first', 'wife', 'playing', 'the', 'second', 'and', 'only', 'wife', 'in', 'this', 'film', 'is', 'susan', 'hayward', 'who', 'only', 'comes', 'into', 'the', 'movie', 'when', 'its', 'half', 'over', 'i', 'wish', 'wed', 'have', 'seen', 'more', 'of', 'her', 'charmian', 'kittredge', 'london', 'survived', 'her', 'husband', 'by', 'almost', '40', 'years', 'dying', 'in', '1955br', 'br', 'oshea', 'in', 'fact', 'met', 'and', 'married', 'the', 'leading', 'lady', 'of', 'his', 'life', 'in', 'jack', 'london', 'virginia', 'mayo', 'has', 'a', 'small', 'role', 'in', 'jack', 'london', 'and', 'they', 'married', 'for', '30', 'years', 'until', 'oshea', 'died', 'in', '1973br', 'br', 'maybe', 'one', 'day', 'well', 'get', 'a', 'view', 'of', 'jack', 'london', 'that', 'will', 'be', 'a', 'lot', 'better', 'than', 'this', 'one']\n"
          ]
        }
      ]
    },
    {
      "cell_type": "markdown",
      "metadata": {
        "id": "ucmu2pWTLuQG"
      },
      "source": [
        "####**Remove stopwords [Please complete this section]**"
      ]
    },
    {
      "cell_type": "code",
      "metadata": {
        "id": "4blOZaW7LuQH",
        "colab": {
          "base_uri": "https://localhost:8080/"
        },
        "outputId": "db0df859-7fba-4be8-9ef9-df811ca5db40"
      },
      "source": [
        "nltk.download('stopwords')\n",
        "from nltk.corpus import stopwords as sw\n",
        "stop_words = sw.words()\n",
        "\n",
        "text_train_ns=[]\n",
        "for tokens in text_train:\n",
        "    # [TODO] Please complete this code body\n",
        "    filtered_sentence = [w for w in tokens if not w in stop_words]\n",
        "    text_train_ns.append(filtered_sentence)\n",
        "\n",
        "text_test_ns=[]\n",
        "for tokens in text_test:\n",
        "    # [TODO] Please complete this code body\n",
        "    filtered_sentence = [w for w in tokens if not w in stop_words]\n",
        "    text_test_ns.append(filtered_sentence)\n",
        "\n",
        "print(text_train_ns[0])"
      ],
      "execution_count": null,
      "outputs": [
        {
          "output_type": "stream",
          "name": "stderr",
          "text": [
            "[nltk_data] Downloading package stopwords to /root/nltk_data...\n",
            "[nltk_data]   Package stopwords is already up-to-date!\n"
          ]
        },
        {
          "output_type": "stream",
          "name": "stdout",
          "text": [
            "['jack', 'londons', 'life', 'colorful', 'dozen', 'films', 'different', 'aspects', 'sad', 'life', 'film', 'wartime', 'propaganda', 'put', 'attractive', 'parts', 'characterbr', 'br', 'jack', 'london', 'barely', 'age', '40', 'died', 'wrote', 'stories', 'wrote', 'knew', 'wrote', 'bringing', 'baggage', 'life', 'experience', 'experience', 'day', 'time', 'condemned', 'racism', 'world', 'london', 'big', 'believer', 'yellow', 'peril', 'called', 'back', 'daybr', 'br', 'thirds', 'film', 'covers', 'life', 'author', 'years', 'seaman', 'inspiration', 'wolf', 'yukon', 'miners', 'cabin', 'doubt', 'inspiration', 'call', 'wild', 'london', 'capture', 'spirit', 'adventure', 'life', 'paper', 'world', 'enjoy', 'sincebr', 'br', 'final', 'dealt', 'time', 'correspondent', 'covering', 'russojapanese', 'london', 'socialist', 'socialism', 'encompass', 'folks', 'oriental', 'million', 'rising', 'immigration', 'chinese', 'japanese', 'pacific', 'coast', 'threat', 'jobs', 'white', 'advocated', 'strict', 'immigration', 'policies', 'orientalsbr', 'br', 'film', 'puts', 'cart', 'horse', 'london', 'presented', 'hand', 'russojapanese', 'japans', 'ambitions', 'reason', 'xenophobic', 'kind', 'atrocities', 'present', 'world', 'existent', 'russojapanese', 'conflict', 'japan', 'imperial', 'ambitions', 'including', 'usa', 'time', 'immigration', 'policies', 'caused', 'pressure', 'west', 'coast', 'politicians', 'big', 'contributing', 'factor', 'deterioration', 'relations', 'japan', 'couple', 'generations', 'london', 'part', 'prophet', 'crying', 'wildernessbr', 'br', 'film', 'independent', 'production', 'samuel', 'bronston', 'films', 'bit', 'budget', 'jack', 'london', 'bit', 'money', 'bronston', 'james', 'cagney', 'spencer', 'tracy', 'role', 'instead', 'michael', 'oshea', 'making', 'film', 'lady', 'burlesque', 'oshea', 'fine', 'part', 'box', 'officebr', 'br', 'london', 'covering', 'meets', 'captain', 'tanaka', 'played', 'leonard', 'strong', 'actor', 'specialized', 'orientals', 'played', 'world', 'vantage', 'point', '1905', 'strong', 'outlines', 'manchu', 'tradition', 'japans', 'imperial', 'aims', 'taking', 'usa', 'eventually', 'great', 'swing', 'shift', 'crowd', 'br', 'br', 'lot', 'course', 'left', 'londons', 'life', 'including', 'wife', 'playing', 'wife', 'film', 'susan', 'hayward', 'movie', 'half', 'wish', 'wed', 'charmian', 'kittredge', 'london', 'survived', 'husband', '40', 'years', 'dying', '1955br', 'br', 'oshea', 'fact', 'married', 'leading', 'lady', 'life', 'jack', 'london', 'virginia', 'mayo', 'small', 'role', 'jack', 'london', 'married', '30', 'years', 'oshea', 'died', '1973br', 'br', 'day', 'view', 'jack', 'london', 'lot']\n"
          ]
        }
      ]
    },
    {
      "cell_type": "markdown",
      "metadata": {
        "id": "QqFS0duZLuQM"
      },
      "source": [
        "####**Lemmatisation [Please complete this section]**"
      ]
    },
    {
      "cell_type": "code",
      "metadata": {
        "id": "6BTXGVwjLuQN",
        "colab": {
          "base_uri": "https://localhost:8080/"
        },
        "outputId": "29daf8a6-9c81-4235-c789-893b7c51c792"
      },
      "source": [
        "nltk.download('wordnet')\n",
        "\n",
        "from nltk.stem import WordNetLemmatizer\n",
        "\n",
        "lemmatizer = WordNetLemmatizer()\n",
        "\n",
        "text_train_le = []\n",
        "for tokens in text_train_ns:\n",
        "    # [TODO] Please complete this code body\n",
        "    lemma_sentence = [lemmatizer.lemmatize(w) for w in tokens]\n",
        "    text_train_le.append(lemma_sentence)\n",
        "\n",
        "text_test_le = []\n",
        "for tokens in text_test_ns:\n",
        "    # [TODO] Please complete this code body\n",
        "    lemma_sentence = [lemmatizer.lemmatize(w) for w in tokens]\n",
        "    text_test_le.append(lemma_sentence)\n",
        "\n",
        "print(text_train_le[0])"
      ],
      "execution_count": null,
      "outputs": [
        {
          "output_type": "stream",
          "name": "stderr",
          "text": [
            "[nltk_data] Downloading package wordnet to /root/nltk_data...\n"
          ]
        },
        {
          "output_type": "stream",
          "name": "stdout",
          "text": [
            "['jack', 'london', 'life', 'colorful', 'dozen', 'film', 'different', 'aspect', 'sad', 'life', 'film', 'wartime', 'propaganda', 'put', 'attractive', 'part', 'characterbr', 'br', 'jack', 'london', 'barely', 'age', '40', 'died', 'wrote', 'story', 'wrote', 'knew', 'wrote', 'bringing', 'baggage', 'life', 'experience', 'experience', 'day', 'time', 'condemned', 'racism', 'world', 'london', 'big', 'believer', 'yellow', 'peril', 'called', 'back', 'daybr', 'br', 'third', 'film', 'cover', 'life', 'author', 'year', 'seaman', 'inspiration', 'wolf', 'yukon', 'miner', 'cabin', 'doubt', 'inspiration', 'call', 'wild', 'london', 'capture', 'spirit', 'adventure', 'life', 'paper', 'world', 'enjoy', 'sincebr', 'br', 'final', 'dealt', 'time', 'correspondent', 'covering', 'russojapanese', 'london', 'socialist', 'socialism', 'encompass', 'folk', 'oriental', 'million', 'rising', 'immigration', 'chinese', 'japanese', 'pacific', 'coast', 'threat', 'job', 'white', 'advocated', 'strict', 'immigration', 'policy', 'orientalsbr', 'br', 'film', 'put', 'cart', 'horse', 'london', 'presented', 'hand', 'russojapanese', 'japan', 'ambition', 'reason', 'xenophobic', 'kind', 'atrocity', 'present', 'world', 'existent', 'russojapanese', 'conflict', 'japan', 'imperial', 'ambition', 'including', 'usa', 'time', 'immigration', 'policy', 'caused', 'pressure', 'west', 'coast', 'politician', 'big', 'contributing', 'factor', 'deterioration', 'relation', 'japan', 'couple', 'generation', 'london', 'part', 'prophet', 'cry', 'wildernessbr', 'br', 'film', 'independent', 'production', 'samuel', 'bronston', 'film', 'bit', 'budget', 'jack', 'london', 'bit', 'money', 'bronston', 'james', 'cagney', 'spencer', 'tracy', 'role', 'instead', 'michael', 'oshea', 'making', 'film', 'lady', 'burlesque', 'oshea', 'fine', 'part', 'box', 'officebr', 'br', 'london', 'covering', 'meet', 'captain', 'tanaka', 'played', 'leonard', 'strong', 'actor', 'specialized', 'oriental', 'played', 'world', 'vantage', 'point', '1905', 'strong', 'outline', 'manchu', 'tradition', 'japan', 'imperial', 'aim', 'taking', 'usa', 'eventually', 'great', 'swing', 'shift', 'crowd', 'br', 'br', 'lot', 'course', 'left', 'london', 'life', 'including', 'wife', 'playing', 'wife', 'film', 'susan', 'hayward', 'movie', 'half', 'wish', 'wed', 'charmian', 'kittredge', 'london', 'survived', 'husband', '40', 'year', 'dying', '1955br', 'br', 'oshea', 'fact', 'married', 'leading', 'lady', 'life', 'jack', 'london', 'virginia', 'mayo', 'small', 'role', 'jack', 'london', 'married', '30', 'year', 'oshea', 'died', '1973br', 'br', 'day', 'view', 'jack', 'london', 'lot']\n"
          ]
        }
      ]
    },
    {
      "cell_type": "markdown",
      "source": [
        "## E2. Model Saving and Loading (1 mark)"
      ],
      "metadata": {
        "id": "qWhjY6oYBOWv"
      }
    },
    {
      "cell_type": "markdown",
      "source": [
        "Let's try to practice how to save our own trained model and load it for later predictions. For convenience, we will use a simple RNN Text Classification model and **only focus on the model saving and loading**. You need to first run the provided modeling code below and then complete the section we tagged as **'[complete this section][TO DO]'. **"
      ],
      "metadata": {
        "id": "XZJO1RPP8a3L"
      }
    },
    {
      "cell_type": "markdown",
      "metadata": {
        "id": "X-hlDQBqsV1L"
      },
      "source": [
        "### Downloading dataset"
      ]
    },
    {
      "cell_type": "code",
      "metadata": {
        "id": "jvwyvmfDegwE"
      },
      "source": [
        "# Code to download file into Colaboratory:\n",
        "!pip install -U -q PyDrive\n",
        "from pydrive.auth import GoogleAuth\n",
        "from pydrive.drive import GoogleDrive\n",
        "from google.colab import auth\n",
        "from oauth2client.client import GoogleCredentials\n",
        "# Authenticate and create the PyDrive client.\n",
        "auth.authenticate_user()\n",
        "gauth = GoogleAuth()\n",
        "gauth.credentials = GoogleCredentials.get_application_default()\n",
        "drive = GoogleDrive(gauth)\n",
        "\n",
        "id = '1rHPW-Rh0FgXAYbzNfU_yTyw4pDkcMrrl'\n",
        "downloaded = drive.CreateFile({'id':id})\n",
        "downloaded.GetContentFile('embedded_docs.pkl')\n",
        "\n",
        "id = '1T4yWpwrwMt5kPzg47m5D-8ArT-gY0aC_'\n",
        "downloaded = drive.CreateFile({'id':id})\n",
        "downloaded.GetContentFile('labels.pkl')\n",
        "\n",
        "import pickle\n",
        "input_embeddings = pickle.load(open(\"embedded_docs.pkl\",\"rb\"))\n",
        "label = pickle.load(open(\"labels.pkl\",\"rb\"))"
      ],
      "execution_count": null,
      "outputs": []
    },
    {
      "cell_type": "markdown",
      "metadata": {
        "id": "f4iYaoduQvA9"
      },
      "source": [
        "### Split the dataset"
      ]
    },
    {
      "cell_type": "code",
      "metadata": {
        "id": "XmkbXPApluQq",
        "colab": {
          "base_uri": "https://localhost:8080/"
        },
        "outputId": "5deb248f-6346-4614-d359-602eb3367f59"
      },
      "source": [
        "# Split into training and testing dataset using scikit-learn\n",
        "# For more details, you can refer to: https://scikit-learn.org/stable/modules/generated/sklearn.model_selection.train_test_split.html\n",
        "from sklearn.model_selection import train_test_split\n",
        "train_embeddings, test_embeddings, train_label, test_label = train_test_split(input_embeddings,label,test_size = 0.2, random_state=0)\n",
        "\n",
        "# The processed data has the shape of (data_size, sequence_length, embedding_dimension)\n",
        "print(train_embeddings.shape)\n",
        "print(train_label.shape)"
      ],
      "execution_count": null,
      "outputs": [
        {
          "output_type": "stream",
          "name": "stdout",
          "text": [
            "(2273, 512, 50)\n",
            "(2273,)\n"
          ]
        }
      ]
    },
    {
      "cell_type": "markdown",
      "metadata": {
        "id": "r_W08vIPv7L7"
      },
      "source": [
        "### Modeling"
      ]
    },
    {
      "cell_type": "code",
      "metadata": {
        "id": "qeJI1UZPoDGp"
      },
      "source": [
        "import torch\n",
        "# You can enable GPU here (cuda); or just CPU\n",
        "device = torch.device(\"cuda\" if torch.cuda.is_available() else \"cpu\")"
      ],
      "execution_count": null,
      "outputs": []
    },
    {
      "cell_type": "code",
      "metadata": {
        "id": "5mklFWbwhrsU"
      },
      "source": [
        "import numpy as np\n",
        "import torch.optim as optim\n",
        "\n",
        "# Category labels, for decoding the predicted index to the actual labels\n",
        "# Note that we only have the following 5 selected category labels in our data (See the Extention section for details)\n",
        "categories = ['alt.atheism', 'comp.graphics', 'misc.forsale', 'sci.med', 'soc.religion.christian']\n",
        "\n",
        "# The length of each sequence\n",
        "seq_length = train_embeddings.shape[1]\n",
        "# The input feature dimension\n",
        "n_input = train_embeddings.shape[2]\n",
        "# The number of class\n",
        "n_class = np.unique(label).shape[0]\n",
        "\n",
        "# Set the hyperparameters\n",
        "n_hidden = 200\n",
        "batch_size = 256\n",
        "total_epoch = 20\n",
        "learning_rate = 1e-3"
      ],
      "execution_count": null,
      "outputs": []
    },
    {
      "cell_type": "code",
      "metadata": {
        "id": "f1195RRURWAz"
      },
      "source": [
        "import torch.nn as nn\n",
        "import torch.nn.functional as F\n",
        "\n",
        "class RNN_Model(nn.Module):\n",
        "    def __init__(self):\n",
        "        super(RNN_Model, self).__init__()\n",
        "        # set the bidirectional to True\n",
        "        self.rnn = nn.RNN(n_input, n_hidden, num_layers=2, batch_first =True, dropout=0.2)\n",
        "        self.linear = nn.Linear(n_hidden,n_class)\n",
        "\n",
        "    def forward(self, x):\n",
        "        rnn_output, h_n = self.rnn(x)\n",
        "        output = self.linear(rnn_output[:,-1,:])\n",
        "        return output"
      ],
      "execution_count": null,
      "outputs": []
    },
    {
      "cell_type": "code",
      "metadata": {
        "id": "fNKfUFdRnQJo",
        "colab": {
          "base_uri": "https://localhost:8080/"
        },
        "outputId": "480db801-2086-4d92-bfc9-f015ac40de94"
      },
      "source": [
        "from sklearn.metrics import accuracy_score\n",
        "\n",
        "# Initialize model, set up the loss calculator and optimizer\n",
        "model = RNN_Model().to(device)\n",
        "criterion = nn.CrossEntropyLoss()\n",
        "optimizer = optim.Adam(model.parameters(), lr=learning_rate)\n",
        "\n",
        "# Training the model\n",
        "for epoch in range(total_epoch):\n",
        "    train_loss = 0\n",
        "    for ind in range(0,train_embeddings.shape[0],batch_size):\n",
        "        input_batch = train_embeddings[ind:min(ind+batch_size, train_embeddings.shape[0])]\n",
        "        target_batch = train_label[ind:min(ind+batch_size, train_embeddings.shape[0])]\n",
        "        input_batch_torch = torch.from_numpy(input_batch).float().to(device)\n",
        "        target_batch_torch = torch.from_numpy(target_batch).view(-1).to(device)\n",
        "\n",
        "        model.train()\n",
        "        optimizer.zero_grad()\n",
        "        outputs = model(input_batch_torch)\n",
        "        loss = criterion(outputs, target_batch_torch)\n",
        "        loss.backward()\n",
        "        optimizer.step()\n",
        "\n",
        "        train_loss += loss.item()\n",
        "\n",
        "    print('Epoch: %d, train loss: %.5f'%(epoch + 1, train_loss))\n",
        "\n",
        "print('Finished Training')\n"
      ],
      "execution_count": null,
      "outputs": [
        {
          "output_type": "stream",
          "name": "stdout",
          "text": [
            "Epoch: 1, train loss: 14.29551\n",
            "Epoch: 2, train loss: 14.09886\n",
            "Epoch: 3, train loss: 13.93407\n",
            "Epoch: 4, train loss: 13.78770\n",
            "Epoch: 5, train loss: 13.76818\n",
            "Epoch: 6, train loss: 13.77104\n",
            "Epoch: 7, train loss: 13.58198\n",
            "Epoch: 8, train loss: 13.41323\n",
            "Epoch: 9, train loss: 13.25132\n",
            "Epoch: 10, train loss: 13.15740\n",
            "Epoch: 11, train loss: 13.01746\n",
            "Epoch: 12, train loss: 12.85961\n",
            "Epoch: 13, train loss: 12.80028\n",
            "Epoch: 14, train loss: 12.75006\n",
            "Epoch: 15, train loss: 12.69870\n",
            "Epoch: 16, train loss: 12.67047\n",
            "Epoch: 17, train loss: 12.72684\n",
            "Epoch: 18, train loss: 12.74002\n",
            "Epoch: 19, train loss: 12.64708\n",
            "Epoch: 20, train loss: 12.58168\n",
            "Finished Training\n"
          ]
        }
      ]
    },
    {
      "cell_type": "markdown",
      "source": [
        "### Save and Load the model [Complete this section]"
      ],
      "metadata": {
        "id": "1uJ6wLNWCUxc"
      }
    },
    {
      "cell_type": "markdown",
      "source": [
        "**Save the model [Complete this part]**"
      ],
      "metadata": {
        "id": "iXK-SiRhCgVL"
      }
    },
    {
      "cell_type": "code",
      "source": [
        "# [TODO] Please write your code for saving the model below\n",
        "# Hint: You need to make sure the model file saved can be successfully loaded in the next section.\n",
        "\n",
        "torch.save(model, 'rnnModel.pt')\n"
      ],
      "metadata": {
        "id": "rkkOw0WXChoZ"
      },
      "execution_count": null,
      "outputs": []
    },
    {
      "cell_type": "markdown",
      "source": [
        "**Load the model**"
      ],
      "metadata": {
        "id": "YO6nvmnUCshG"
      }
    },
    {
      "cell_type": "code",
      "source": [
        "# [TODO] Please write your code for loading the saved model below\n",
        "\n",
        "model2 = torch.load('rnnModel.pt')\n",
        "model2.eval()"
      ],
      "metadata": {
        "id": "QUdlUuxpCtbk",
        "colab": {
          "base_uri": "https://localhost:8080/"
        },
        "outputId": "cf1c6918-8553-45b8-aee0-e79516d6c5ee"
      },
      "execution_count": null,
      "outputs": [
        {
          "output_type": "execute_result",
          "data": {
            "text/plain": [
              "RNN_Model(\n",
              "  (rnn): RNN(50, 200, num_layers=2, batch_first=True, dropout=0.2)\n",
              "  (linear): Linear(in_features=200, out_features=5, bias=True)\n",
              ")"
            ]
          },
          "metadata": {},
          "execution_count": 48
        }
      ]
    },
    {
      "cell_type": "markdown",
      "source": [
        "### Testing"
      ],
      "metadata": {
        "id": "6rffHopoCu9U"
      }
    },
    {
      "cell_type": "code",
      "source": [
        "## Prediction\n",
        "outputs = model2(torch.from_numpy(test_embeddings).float().to(device))\n",
        "predicted = torch.argmax(outputs, 1)\n",
        "\n",
        "# classification_report builds a text report showing the main classification metrics\n",
        "# More details can be found from: https://scikit-learn.org/stable/modules/generated/sklearn.metrics.classification_report.html\n",
        "from sklearn.metrics import classification_report\n",
        "print(classification_report([categories[i] for i in test_label], [categories[i] for i in predicted.cpu().numpy()], digits=4))"
      ],
      "metadata": {
        "id": "L_kxouIaCUNd",
        "colab": {
          "base_uri": "https://localhost:8080/"
        },
        "outputId": "cffa367b-7e70-4690-e1d1-1e3aea6c8491"
      },
      "execution_count": null,
      "outputs": [
        {
          "output_type": "stream",
          "name": "stdout",
          "text": [
            "                        precision    recall  f1-score   support\n",
            "\n",
            "           alt.atheism     0.1000    0.0200    0.0333       100\n",
            "         comp.graphics     0.0000    0.0000    0.0000       119\n",
            "          misc.forsale     0.2147    0.9459    0.3500       111\n",
            "               sci.med     0.2143    0.0236    0.0426       127\n",
            "soc.religion.christian     0.4571    0.1429    0.2177       112\n",
            "\n",
            "              accuracy                         0.2214       569\n",
            "             macro avg     0.1972    0.2265    0.1287       569\n",
            "          weighted avg     0.1973    0.2214    0.1265       569\n",
            "\n"
          ]
        }
      ]
    }
  ]
}